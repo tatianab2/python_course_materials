{
 "cells": [
  {
   "cell_type": "markdown",
   "metadata": {
    "id": "n-ykzW59acTY"
   },
   "source": [
    "## Введение в Python. Целые и вещественные числа. Логические переменные."
   ]
  },
  {
   "cell_type": "markdown",
   "metadata": {
    "id": "Nifq5zd_acTa"
   },
   "source": [
    "# Функция `print()`"
   ]
  },
  {
   "cell_type": "markdown",
   "metadata": {
    "id": "m_Ame35uacTa"
   },
   "source": [
    "С помощью Python можно решать огромное количество задач. Мы начнем с очень простых и постепенно будем их усложнять, закончив наш курс небольшим проектом. Если вы уже сталкивались с программированием, то вы помните, что обычно самой первой программой становится вывод \"Hello, world\". Попробуем сделать это в Python."
   ]
  },
  {
   "cell_type": "code",
   "execution_count": 1,
   "metadata": {
    "colab": {
     "base_uri": "https://localhost:8080/"
    },
    "executionInfo": {
     "elapsed": 271,
     "status": "ok",
     "timestamp": 1629267401477,
     "user": {
      "displayName": "Ian Pile",
      "photoUrl": "",
      "userId": "15446314713627471182"
     },
     "user_tz": -180
    },
    "id": "Js941SVBacTb",
    "outputId": "1c968456-a700-4465-a3ad-6ded90d72a8b"
   },
   "outputs": [
    {
     "name": "stdout",
     "output_type": "stream",
     "text": [
      "Hello, world!\n",
      "1\n"
     ]
    }
   ],
   "source": [
    "print('''Hello, world!''')\n",
    "print(1)"
   ]
  },
  {
   "cell_type": "markdown",
   "metadata": {
    "id": "-lk86t_WacTc"
   },
   "source": [
    "Обратите внимание, что `\"Hello, world!\"` мы написали в кавычках, а единицу - нет. Это связанно с тем,\n",
    "что в программировании мы имеем дело с разными типами данных. И `Python` будет воспринимать текст как текст (строковую переменную), только в том случае, если мы его возьмем в кавычки (неважно, одинарные или двойные). А при выводе эти кавычки отображаться уже не будут (они служат знаком для `Python`, что внутри них - текст).\n",
    "\n",
    "`print()` - это функция, которая выводит то, что мы ей передадим. В других IDE это был бы вывод в терминал, а в `Jupyter` вывод напечатается под запускаемой ячейкой. Распознать функцию в питоне можно по скобкам после слова, внутри которых мы передаем аргумент, к которому эту функцию нужно применить (текст `\"Hello, world\"` или `1` в нашем случае). "
   ]
  },
  {
   "cell_type": "code",
   "execution_count": null,
   "metadata": {
    "colab": {
     "base_uri": "https://localhost:8080/",
     "height": 164
    },
    "executionInfo": {
     "elapsed": 317,
     "status": "error",
     "timestamp": 1629267361980,
     "user": {
      "displayName": "Ian Pile",
      "photoUrl": "",
      "userId": "15446314713627471182"
     },
     "user_tz": -180
    },
    "id": "L4BerLhMacTc",
    "outputId": "2a09c5dc-c73a-4a90-e272-d80ff76f713e"
   },
   "outputs": [
    {
     "ename": "NameError",
     "evalue": "ignored",
     "output_type": "error",
     "traceback": [
      "\u001b[0;31m---------------------------------------------------------------------------\u001b[0m",
      "\u001b[0;31mNameError\u001b[0m                                 Traceback (most recent call last)",
      "\u001b[0;32m<ipython-input-5-65c2bc1cadaf>\u001b[0m in \u001b[0;36m<module>\u001b[0;34m()\u001b[0m\n\u001b[0;32m----> 1\u001b[0;31m \u001b[0mprint\u001b[0m\u001b[0;34m(\u001b[0m\u001b[0mHello\u001b[0m\u001b[0;34m,\u001b[0m \u001b[0mworld\u001b[0m\u001b[0;34m)\u001b[0m\u001b[0;34m\u001b[0m\u001b[0;34m\u001b[0m\u001b[0m\n\u001b[0m",
      "\u001b[0;31mNameError\u001b[0m: name 'Hello' is not defined"
     ]
    }
   ],
   "source": [
    "print(Hello, world)"
   ]
  },
  {
   "cell_type": "markdown",
   "metadata": {
    "id": "ML16MrgVacTd"
   },
   "source": [
    "Написали без кавычек - получили ошибку. Кстати, обратите внимание, что очень часто в тексте ошибки есть указание на то, что именно произошло, и можно попробовать догадаться, что же нужно исправить. Текст без кавычек `Python` воспринимает как название переменной, которую еще не задали. Кстати, если забыть закрыть или открыть кавычку (или поставить разные), то тоже поймаем ошибку."
   ]
  },
  {
   "cell_type": "markdown",
   "metadata": {
    "id": "LogQJv1vacTd"
   },
   "source": [
    "\n",
    "Иногда мы хотим комментировать наш код, чтобы я-будущий или наши коллеги поменьше задавались вопросами, а что вообще имелось ввиду. Комментарии можно писать прямо в коде, они не повлияют на работу программы, если их правильно оформить."
   ]
  },
  {
   "cell_type": "code",
   "execution_count": null,
   "metadata": {
    "colab": {
     "base_uri": "https://localhost:8080/"
    },
    "executionInfo": {
     "elapsed": 262,
     "status": "ok",
     "timestamp": 1629267522823,
     "user": {
      "displayName": "Ian Pile",
      "photoUrl": "",
      "userId": "15446314713627471182"
     },
     "user_tz": -180
    },
    "id": "3sY5r2soacTe",
    "outputId": "fa52d131-ac17-4492-fddc-0fa0b6fdc62a"
   },
   "outputs": [
    {
     "name": "stdout",
     "output_type": "stream",
     "text": [
      "Hello, world\n"
     ]
    }
   ],
   "source": [
    "# Обратите внимание: так выглядит комментарий - часть скрипта, которая не будет исполнена \n",
    "# при запуске программы.\n",
    "# Каждую строку комментария мы начинаем со знака хэштега.\n",
    "\n",
    "'''\n",
    "Это тоже комментарий - обычно выделение тремя апострофами мы используем для тех случаев, \n",
    "когда хотим написать длинный, развернутый текст.\n",
    "'''\n",
    "\n",
    "print('Hello, world')"
   ]
  },
  {
   "cell_type": "markdown",
   "metadata": {
    "id": "cmWwH05JacTe"
   },
   "source": [
    "Обратите внимание, что в отличие от других `IDE` (например, `PyCharm`) в `Jupyter Notebook` не всегда обязательно использовать `print()`, чтобы что-то вывести. Но не относитесь к этому как к стандарту для любых `IDE`."
   ]
  },
  {
   "cell_type": "code",
   "execution_count": null,
   "metadata": {
    "colab": {
     "base_uri": "https://localhost:8080/",
     "height": 37
    },
    "executionInfo": {
     "elapsed": 264,
     "status": "ok",
     "timestamp": 1629267562088,
     "user": {
      "displayName": "Ian Pile",
      "photoUrl": "",
      "userId": "15446314713627471182"
     },
     "user_tz": -180
    },
    "id": "FF-_6r0facTf",
    "outputId": "f10910d6-509a-4a34-c66b-cf65d4d5816b"
   },
   "outputs": [
    {
     "data": {
      "application/vnd.google.colaboratory.intrinsic+json": {
       "type": "string"
      },
      "text/plain": [
       "'Hello, world'"
      ]
     },
     "execution_count": 8,
     "metadata": {
      "tags": []
     },
     "output_type": "execute_result"
    }
   ],
   "source": [
    "\"Hello, world\""
   ]
  },
  {
   "cell_type": "markdown",
   "metadata": {
    "id": "g_wkrnwGacTf"
   },
   "source": [
    "Выше рядом с выводом появилась подпись `Out[]`. В данном случае `Jupyter` показывает нам последнее значение, лежащее в буфере ячейки. Например, в PyCharm такой вывод всегда будет скрыт, пока мы его не \"напечатаем\" с помощью `print()`. Но эта особенность `Jupyter` помогает нам быстро проверить, что, например, находится внутри переменной, когда мы отлаживаем наш код."
   ]
  },
  {
   "cell_type": "markdown",
   "metadata": {
    "id": "hHerJopIacTg"
   },
   "source": [
    "Следующая вещь, которую нужно знать про язык программирования - как в нем задаются переменные. Переменные - это \n",
    "контейнеры, которые хранят в себе информацию (текстовую, числовую, какие-то более сложные виды данных). В `Python`\n",
    "знаком присвоения является знак `=`. "
   ]
  },
  {
   "cell_type": "code",
   "execution_count": null,
   "metadata": {
    "colab": {
     "base_uri": "https://localhost:8080/"
    },
    "executionInfo": {
     "elapsed": 285,
     "status": "ok",
     "timestamp": 1629267857141,
     "user": {
      "displayName": "Ian Pile",
      "photoUrl": "",
      "userId": "15446314713627471182"
     },
     "user_tz": -180
    },
    "id": "KbkPrvAeacTg",
    "outputId": "208f20ff-d5ba-44ae-b300-eb43dfec10f3"
   },
   "outputs": [
    {
     "name": "stdout",
     "output_type": "stream",
     "text": [
      "Hello, world!\n"
     ]
    }
   ],
   "source": [
    "x = 'Hello, world!'\n",
    "print(x)    # Обратите внимание, что результат вызова этой функции такой же, как выше, \n",
    "            # только текст теперь хранится внутри переменной."
   ]
  },
  {
   "cell_type": "markdown",
   "metadata": {
    "id": "gO9IjMSDacTg"
   },
   "source": [
    "`Python` -  язык чувствительный к регистру. Поэтому, когда создаете/вызываете переменные или функции, обязательно используйте правильный регистр. Так, следующая строка выдаст ошибку."
   ]
  },
  {
   "cell_type": "code",
   "execution_count": null,
   "metadata": {
    "colab": {
     "base_uri": "https://localhost:8080/",
     "height": 164
    },
    "executionInfo": {
     "elapsed": 8,
     "status": "error",
     "timestamp": 1629267859317,
     "user": {
      "displayName": "Ian Pile",
      "photoUrl": "",
      "userId": "15446314713627471182"
     },
     "user_tz": -180
    },
    "id": "49A60ptqacTh",
    "outputId": "a8024aaf-de50-44e5-8e26-b11f8f8ff267"
   },
   "outputs": [
    {
     "ename": "NameError",
     "evalue": "ignored",
     "output_type": "error",
     "traceback": [
      "\u001b[0;31m---------------------------------------------------------------------------\u001b[0m",
      "\u001b[0;31mNameError\u001b[0m                                 Traceback (most recent call last)",
      "\u001b[0;32m<ipython-input-11-f9979d7199c5>\u001b[0m in \u001b[0;36m<module>\u001b[0;34m()\u001b[0m\n\u001b[0;32m----> 1\u001b[0;31m \u001b[0mprint\u001b[0m\u001b[0;34m(\u001b[0m\u001b[0mX\u001b[0m\u001b[0;34m)\u001b[0m \u001b[0;31m# мы создали переменную x, а X не существует\u001b[0m\u001b[0;34m\u001b[0m\u001b[0;34m\u001b[0m\u001b[0m\n\u001b[0m",
      "\u001b[0;31mNameError\u001b[0m: name 'X' is not defined"
     ]
    }
   ],
   "source": [
    "print(X) # мы создали переменную x, а X не существует"
   ]
  },
  {
   "cell_type": "markdown",
   "metadata": {
    "id": "BxkFuAy5acTh"
   },
   "source": [
    "Еще раз обратим внимание на ошибку. *NameError: name 'X' is not defined* означает, что переменная с таким названием не была создана в этой программе. Кстати, обратите внимание, что переменные в Jupyter хранятся на протяжении всей сессии (пока вы работаете с блокнотом и не закрыли его), и могут быть созданы в одной ячейке, а вызваны в другой. Давайте опять попробуем обратиться к `x`."
   ]
  },
  {
   "cell_type": "code",
   "execution_count": null,
   "metadata": {
    "colab": {
     "base_uri": "https://localhost:8080/"
    },
    "executionInfo": {
     "elapsed": 273,
     "status": "ok",
     "timestamp": 1629267896433,
     "user": {
      "displayName": "Ian Pile",
      "photoUrl": "",
      "userId": "15446314713627471182"
     },
     "user_tz": -180
    },
    "id": "23dmeQRTacTh",
    "outputId": "f697917f-3e1d-4d5b-95f2-6fb7f376435f"
   },
   "outputs": [
    {
     "name": "stdout",
     "output_type": "stream",
     "text": [
      "Hello, world!\n"
     ]
    }
   ],
   "source": [
    "print(x) # работает!"
   ]
  },
  {
   "cell_type": "markdown",
   "metadata": {
    "id": "JjhLJimpacTi"
   },
   "source": [
    "# Типы данных: целочисленные переменные (integer)"
   ]
  },
  {
   "cell_type": "markdown",
   "metadata": {
    "id": "yYmNEKLcacTi"
   },
   "source": [
    "Знакомство с типа данных мы начнем с целых чисел. Если вы вдруг знакомы с другими языками программирования, то стоит отметить, что типизация в Python - динамическая. Это значит, что вам не нужно говорить какой тип данных вы хотите положить в переменную - Python сам все определит. Проверить тип данных можно с помощью функции type(), передав ей в качестве аргумента сами данные или переменную.\n",
    "\n",
    "**ЦЕЛЫЕ ЧИСЛА (INT, INTEGER):** 1, 2, 592, 1030523235 - любое целое число без дробной части. "
   ]
  },
  {
   "cell_type": "code",
   "execution_count": null,
   "metadata": {
    "colab": {
     "base_uri": "https://localhost:8080/"
    },
    "executionInfo": {
     "elapsed": 292,
     "status": "ok",
     "timestamp": 1629267958034,
     "user": {
      "displayName": "Ian Pile",
      "photoUrl": "",
      "userId": "15446314713627471182"
     },
     "user_tz": -180
    },
    "id": "8XktENAAacTi",
    "outputId": "dc3dc259-a5bc-4922-c339-d046fc7d9821"
   },
   "outputs": [
    {
     "name": "stdout",
     "output_type": "stream",
     "text": [
      "<class 'int'>\n",
      "<class 'int'>\n"
     ]
    }
   ],
   "source": [
    "y = 22345678946375892347\n",
    "print(type(2))\n",
    "print(type(y))"
   ]
  },
  {
   "cell_type": "markdown",
   "metadata": {
    "id": "joJtxkkVacTj"
   },
   "source": [
    "Обратите внимание - выше мы вызвали функцию внутри функции. \n",
    "type(2) возвращает скрытое значение типа переменной (int для integer). \n",
    "Чтобы вывести это скрытое значение - мы должны его \"напечатать\".\n",
    "\n",
    "Самое элементарное, что можно делать в Python - использовать его как калькулятор. Давайте посмотрим, как\n",
    "он вычитает, складывает и умножает."
   ]
  },
  {
   "cell_type": "code",
   "execution_count": null,
   "metadata": {
    "colab": {
     "base_uri": "https://localhost:8080/"
    },
    "executionInfo": {
     "elapsed": 291,
     "status": "ok",
     "timestamp": 1629268004910,
     "user": {
      "displayName": "Ian Pile",
      "photoUrl": "",
      "userId": "15446314713627471182"
     },
     "user_tz": -180
    },
    "id": "5rzOEfXnacTj",
    "outputId": "ae8c1859-2f76-42f6-c26c-894d9dadbd43"
   },
   "outputs": [
    {
     "name": "stdout",
     "output_type": "stream",
     "text": [
      "4\n",
      "9\n",
      "12\n"
     ]
    }
   ],
   "source": [
    "print(2 + 2)\n",
    "print(18 - 9)\n",
    "print(4 * 3)"
   ]
  },
  {
   "cell_type": "code",
   "execution_count": null,
   "metadata": {
    "colab": {
     "base_uri": "https://localhost:8080/"
    },
    "executionInfo": {
     "elapsed": 270,
     "status": "ok",
     "timestamp": 1629268129421,
     "user": {
      "displayName": "Ian Pile",
      "photoUrl": "",
      "userId": "15446314713627471182"
     },
     "user_tz": -180
    },
    "id": "6Gd1jdj28R5M",
    "outputId": "0f44a947-97f4-439a-d4e2-cb3373ab847c"
   },
   "outputs": [
    {
     "name": "stdout",
     "output_type": "stream",
     "text": [
      "32\n"
     ]
    }
   ],
   "source": [
    "y = 2**5\n",
    "print(y)"
   ]
  },
  {
   "cell_type": "code",
   "execution_count": null,
   "metadata": {
    "id": "Le7PE0Ga9SoY"
   },
   "outputs": [],
   "source": [
    "x = 5\n",
    "y = 5"
   ]
  },
  {
   "cell_type": "code",
   "execution_count": null,
   "metadata": {
    "colab": {
     "base_uri": "https://localhost:8080/"
    },
    "executionInfo": {
     "elapsed": 425,
     "status": "ok",
     "timestamp": 1629268309197,
     "user": {
      "displayName": "Ian Pile",
      "photoUrl": "",
      "userId": "15446314713627471182"
     },
     "user_tz": -180
    },
    "id": "zapKfTv79VNC",
    "outputId": "4f84d9fe-5824-4e74-d573-b8bbeb37bcd9"
   },
   "outputs": [
    {
     "data": {
      "text/plain": [
       "True"
      ]
     },
     "execution_count": 30,
     "metadata": {
      "tags": []
     },
     "output_type": "execute_result"
    }
   ],
   "source": [
    "x == 5"
   ]
  },
  {
   "cell_type": "code",
   "execution_count": null,
   "metadata": {},
   "outputs": [],
   "source": [
    "10"
   ]
  },
  {
   "cell_type": "code",
   "execution_count": null,
   "metadata": {
    "colab": {
     "base_uri": "https://localhost:8080/"
    },
    "executionInfo": {
     "elapsed": 282,
     "status": "ok",
     "timestamp": 1629268377931,
     "user": {
      "displayName": "Ian Pile",
      "photoUrl": "",
      "userId": "15446314713627471182"
     },
     "user_tz": -180
    },
    "id": "ikE62PuD9Rd9",
    "outputId": "2b0e5676-46e6-4cc2-f7dd-33ca3c8e7a6e"
   },
   "outputs": [
    {
     "data": {
      "text/plain": [
       "5"
      ]
     },
     "execution_count": 32,
     "metadata": {
      "tags": []
     },
     "output_type": "execute_result"
    }
   ],
   "source": [
    "(x // 2)*2 + x % 2"
   ]
  },
  {
   "cell_type": "code",
   "execution_count": 1,
   "metadata": {},
   "outputs": [
    {
     "name": "stdout",
     "output_type": "stream",
     "text": [
      "2.2\n",
      "2\n",
      "0.5\n"
     ]
    }
   ],
   "source": [
    "print(11 / 5)\n",
    "print(11 // 5)\n",
    "print(1.5 % 1)"
   ]
  },
  {
   "cell_type": "markdown",
   "metadata": {
    "id": "tDqVQwHUacTk"
   },
   "source": [
    "С делением нужно быть немного осторожней. Существует два типа деления - привычное нам, которое даст в ответе дробь при делении 5 на 2, и целочисленное деление, в результате которого мы получим только целую часть частного."
   ]
  },
  {
   "cell_type": "code",
   "execution_count": null,
   "metadata": {
    "colab": {
     "base_uri": "https://localhost:8080/"
    },
    "executionInfo": {
     "elapsed": 283,
     "status": "ok",
     "timestamp": 1629268199672,
     "user": {
      "displayName": "Ian Pile",
      "photoUrl": "",
      "userId": "15446314713627471182"
     },
     "user_tz": -180
    },
    "id": "gTDe3h2wacTk",
    "outputId": "16139deb-6b90-4a9c-af9d-08dca43aeb63"
   },
   "outputs": [
    {
     "name": "stdout",
     "output_type": "stream",
     "text": [
      "2.5\n",
      "2\n"
     ]
    }
   ],
   "source": [
    "print(5 / 2)  # в результате такого деления получается другой тип данных (float), подробнее о нем поговорим позже.\n",
    "print(8 // 3)"
   ]
  },
  {
   "cell_type": "markdown",
   "metadata": {
    "id": "FMuliui-acTk"
   },
   "source": [
    "А если нам надо как раз найти остаток от деления, то мы можем воспользоваться оператором модуло %\n"
   ]
  },
  {
   "cell_type": "code",
   "execution_count": null,
   "metadata": {
    "colab": {
     "base_uri": "https://localhost:8080/"
    },
    "executionInfo": {
     "elapsed": 309,
     "status": "ok",
     "timestamp": 1629268242569,
     "user": {
      "displayName": "Ian Pile",
      "photoUrl": "",
      "userId": "15446314713627471182"
     },
     "user_tz": -180
    },
    "id": "EXhUVBw-acTl",
    "outputId": "79537975-9994-4309-bf64-1ce016428971"
   },
   "outputs": [
    {
     "name": "stdout",
     "output_type": "stream",
     "text": [
      "1\n"
     ]
    }
   ],
   "source": [
    "print(5 % 2)"
   ]
  },
  {
   "cell_type": "markdown",
   "metadata": {
    "id": "WnYIxtdxacTl"
   },
   "source": [
    "Еще одна математическая операция, которую мы можем выполнять без загрузки специальных математических библиотек - это\n",
    "возведение в степень."
   ]
  },
  {
   "cell_type": "code",
   "execution_count": null,
   "metadata": {
    "colab": {
     "base_uri": "https://localhost:8080/"
    },
    "executionInfo": {
     "elapsed": 278,
     "status": "ok",
     "timestamp": 1629268255372,
     "user": {
      "displayName": "Ian Pile",
      "photoUrl": "",
      "userId": "15446314713627471182"
     },
     "user_tz": -180
    },
    "id": "uja1KaZcacTl",
    "outputId": "2e4feb72-cd70-4d76-94bd-645f925cc628"
   },
   "outputs": [
    {
     "name": "stdout",
     "output_type": "stream",
     "text": [
      "25\n"
     ]
    }
   ],
   "source": [
    "print(5**2)"
   ]
  },
  {
   "cell_type": "markdown",
   "metadata": {
    "id": "sOBb_YAbacTm"
   },
   "source": [
    "Все то же самое работает и с переменными, содержащими числа."
   ]
  },
  {
   "cell_type": "code",
   "execution_count": null,
   "metadata": {
    "id": "Nahua0_yacTm",
    "outputId": "cb94c497-aa2e-4b12-a457-42e53d2c979c"
   },
   "outputs": [
    {
     "name": "stdout",
     "output_type": "stream",
     "text": [
      "8\n",
      "125\n"
     ]
    }
   ],
   "source": [
    "a = 2\n",
    "b = 3\n",
    "print(a ** b)\n",
    "# изменится ли результат, если мы перезапишем переменную a?\n",
    "a = 5\n",
    "print(a ** b)"
   ]
  },
  {
   "cell_type": "markdown",
   "metadata": {
    "id": "e8aidkBzacTm"
   },
   "source": [
    "Часто возникает ситуация, что мы считали какие-то данные в формате текста, и у нас не работают арифметические операции. Тогда мы можем с помощью функции int() преобразовать строковую переменную (о них ниже) в число, если эта строка может быть переведена в число в десятичной системе."
   ]
  },
  {
   "cell_type": "code",
   "execution_count": null,
   "metadata": {
    "colab": {
     "base_uri": "https://localhost:8080/",
     "height": 164
    },
    "executionInfo": {
     "elapsed": 313,
     "status": "error",
     "timestamp": 1629268492531,
     "user": {
      "displayName": "Ian Pile",
      "photoUrl": "",
      "userId": "15446314713627471182"
     },
     "user_tz": -180
    },
    "id": "RmOMP4oqacTn",
    "outputId": "2293c563-a939-403f-ff95-69a2bbf828fe"
   },
   "outputs": [
    {
     "ename": "TypeError",
     "evalue": "ignored",
     "output_type": "error",
     "traceback": [
      "\u001b[0;31m---------------------------------------------------------------------------\u001b[0m",
      "\u001b[0;31mTypeError\u001b[0m                                 Traceback (most recent call last)",
      "\u001b[0;32m<ipython-input-33-f28303544e9d>\u001b[0m in \u001b[0;36m<module>\u001b[0;34m()\u001b[0m\n\u001b[0;32m----> 1\u001b[0;31m \u001b[0mprint\u001b[0m\u001b[0;34m(\u001b[0m\u001b[0;36m2\u001b[0m \u001b[0;34m+\u001b[0m \u001b[0;34m'5'\u001b[0m\u001b[0;34m)\u001b[0m \u001b[0;31m# ошибка, не сможем сложить целое число и строку\u001b[0m\u001b[0;34m\u001b[0m\u001b[0;34m\u001b[0m\u001b[0m\n\u001b[0m",
      "\u001b[0;31mTypeError\u001b[0m: unsupported operand type(s) for +: 'int' and 'str'"
     ]
    }
   ],
   "source": [
    "print(2 + '5') # ошибка, не сможем сложить целое число и строку"
   ]
  },
  {
   "cell_type": "code",
   "execution_count": null,
   "metadata": {
    "colab": {
     "base_uri": "https://localhost:8080/"
    },
    "executionInfo": {
     "elapsed": 287,
     "status": "ok",
     "timestamp": 1629268585048,
     "user": {
      "displayName": "Ian Pile",
      "photoUrl": "",
      "userId": "15446314713627471182"
     },
     "user_tz": -180
    },
    "id": "2y3q7p4aacTn",
    "outputId": "7b715b58-983e-4440-87af-62a32c4fbe5f"
   },
   "outputs": [
    {
     "name": "stdout",
     "output_type": "stream",
     "text": [
      "7\n"
     ]
    }
   ],
   "source": [
    "print(2 + int('5')) # преобразовали строку в число и все заработало"
   ]
  },
  {
   "cell_type": "code",
   "execution_count": null,
   "metadata": {
    "colab": {
     "base_uri": "https://localhost:8080/",
     "height": 164
    },
    "executionInfo": {
     "elapsed": 328,
     "status": "error",
     "timestamp": 1629268590174,
     "user": {
      "displayName": "Ian Pile",
      "photoUrl": "",
      "userId": "15446314713627471182"
     },
     "user_tz": -180
    },
    "id": "GVxQkEbtacTn",
    "outputId": "15d0d60f-e374-44fd-9191-f6d21baa0316"
   },
   "outputs": [
    {
     "ename": "ValueError",
     "evalue": "ignored",
     "output_type": "error",
     "traceback": [
      "\u001b[0;31m---------------------------------------------------------------------------\u001b[0m",
      "\u001b[0;31mValueError\u001b[0m                                Traceback (most recent call last)",
      "\u001b[0;32m<ipython-input-35-5879db2a084c>\u001b[0m in \u001b[0;36m<module>\u001b[0;34m()\u001b[0m\n\u001b[0;32m----> 1\u001b[0;31m \u001b[0mint\u001b[0m\u001b[0;34m(\u001b[0m\u001b[0;34m'текст'\u001b[0m\u001b[0;34m)\u001b[0m \u001b[0;31m# здесь тоже поймаем ошибку, потому что строка не представляет собой число\u001b[0m\u001b[0;34m\u001b[0m\u001b[0;34m\u001b[0m\u001b[0m\n\u001b[0m",
      "\u001b[0;31mValueError\u001b[0m: invalid literal for int() with base 10: 'текст'"
     ]
    }
   ],
   "source": [
    "int('текст') # здесь тоже поймаем ошибку, потому что строка не представляет собой число"
   ]
  },
  {
   "cell_type": "markdown",
   "metadata": {
    "id": "J89oTkOKacTo"
   },
   "source": [
    "## (∩｀-´)⊃━☆ﾟ.*･｡ﾟ Задача\n",
    "\n",
    "### Сумма цифр трехзначного числа\n",
    "\n",
    "Дано трехзначное число 179. Найдите сумму его цифр.\n",
    "\n",
    "**Формат вывода**  \n",
    "Выведите ответ на задачу.\n",
    "\n",
    "**Ответ**  \n",
    "Вывод программы:  \n",
    "17"
   ]
  },
  {
   "cell_type": "code",
   "execution_count": 3,
   "metadata": {},
   "outputs": [
    {
     "name": "stdout",
     "output_type": "stream",
     "text": [
      "179\n",
      "17\n"
     ]
    }
   ],
   "source": [
    "a = int(input())\n",
    "b = a // 100\n",
    "c = (a // 10) % 10\n",
    "d = a % 10\n",
    "print(b + c + d)"
   ]
  },
  {
   "cell_type": "markdown",
   "metadata": {
    "id": "P7tD_YjJacTo"
   },
   "source": [
    "## (∩｀-´)⊃━☆ﾟ.*･｡ﾟ Задача\n",
    "\n",
    "### Электронные часы\n",
    "\n",
    "Дано число N. С начала суток прошло N минут. Определите, сколько часов и минут будут показывать электронные часы в этот момент.\n",
    "\n",
    "**Формат ввода**  \n",
    "\n",
    "Вводится число N — целое, положительное, не превышает 10⁷.\n",
    "\n",
    "**Формат вывода**\n",
    "\n",
    "Программа должна вывести два числа: количество часов (от 0 до 23) и количество минут (от 0 до 59).\n",
    "\n",
    "Учтите, что число N может быть больше, чем количество минут в сутках.\n",
    "\n",
    "#### Примеры\n",
    "\n",
    "Тест 1  \n",
    "**Входные данные:**  \n",
    "150\n",
    "\n",
    "**Вывод программы:**  \n",
    "2 30"
   ]
  },
  {
   "cell_type": "code",
   "execution_count": 14,
   "metadata": {},
   "outputs": [
    {
     "name": "stdout",
     "output_type": "stream",
     "text": [
      "150\n",
      "2 30\n"
     ]
    }
   ],
   "source": [
    "n = int(input())\n",
    "print(n//60 % 24, n % 60)"
   ]
  },
  {
   "cell_type": "markdown",
   "metadata": {
    "id": "--uh0bMFacTp"
   },
   "source": [
    "# Типы данных: логические или булевы переменные (boolean)\n",
    "\n",
    "Следующий тип данных - это логические переменные. Логические переменные могут принимать всего два значения - **истина (True)** или **ложь (False)**. В Python тип обознчается **bool**."
   ]
  },
  {
   "cell_type": "code",
   "execution_count": 4,
   "metadata": {
    "colab": {
     "base_uri": "https://localhost:8080/"
    },
    "executionInfo": {
     "elapsed": 286,
     "status": "ok",
     "timestamp": 1629268680043,
     "user": {
      "displayName": "Ian Pile",
      "photoUrl": "",
      "userId": "15446314713627471182"
     },
     "user_tz": -180
    },
    "id": "qzc0IhWVacTp",
    "outputId": "aeb07db9-8669-4b31-8b41-c7e698e362e3"
   },
   "outputs": [
    {
     "name": "stdout",
     "output_type": "stream",
     "text": [
      "<class 'bool'> <class 'bool'>\n"
     ]
    }
   ],
   "source": [
    "print(type(True), type(False))"
   ]
  },
  {
   "cell_type": "markdown",
   "metadata": {
    "id": "ATUrCrOQacTq"
   },
   "source": [
    "Логические переменные чаще всего используется в условных операторах if-else и в цикле с остановкой по условию while. В части по анализу данных еще увидим одно частое применение - создание булевых масок для фильтрации данных (например, вывести только те данные, где возраст больше 20).\n",
    "\n",
    "Обратите внимание, что True и False обязательно пишутся с большой буквы и без кавычек, иначе можно получить ошибку."
   ]
  },
  {
   "cell_type": "code",
   "execution_count": null,
   "metadata": {
    "colab": {
     "base_uri": "https://localhost:8080/",
     "height": 198
    },
    "executionInfo": {
     "elapsed": 302,
     "status": "error",
     "timestamp": 1629268702529,
     "user": {
      "displayName": "Ian Pile",
      "photoUrl": "",
      "userId": "15446314713627471182"
     },
     "user_tz": -180
    },
    "id": "sDPKuhrhacTq",
    "outputId": "2565817d-b512-42d6-e098-b97b36b6d948"
   },
   "outputs": [
    {
     "name": "stdout",
     "output_type": "stream",
     "text": [
      "<class 'str'>\n"
     ]
    },
    {
     "ename": "NameError",
     "evalue": "ignored",
     "output_type": "error",
     "traceback": [
      "\u001b[0;31m---------------------------------------------------------------------------\u001b[0m",
      "\u001b[0;31mNameError\u001b[0m                                 Traceback (most recent call last)",
      "\u001b[0;32m<ipython-input-39-7baca652a4cb>\u001b[0m in \u001b[0;36m<module>\u001b[0;34m()\u001b[0m\n\u001b[1;32m      1\u001b[0m \u001b[0mprint\u001b[0m\u001b[0;34m(\u001b[0m\u001b[0mtype\u001b[0m\u001b[0;34m(\u001b[0m\u001b[0;34m'True'\u001b[0m\u001b[0;34m)\u001b[0m\u001b[0;34m)\u001b[0m \u001b[0;31m# тип str - строковая переменная\u001b[0m\u001b[0;34m\u001b[0m\u001b[0;34m\u001b[0m\u001b[0m\n\u001b[0;32m----> 2\u001b[0;31m \u001b[0mprint\u001b[0m\u001b[0;34m(\u001b[0m\u001b[0mtrue\u001b[0m\u001b[0;34m)\u001b[0m \u001b[0;31m# ошибка, Python думает, что это название переменной\u001b[0m\u001b[0;34m\u001b[0m\u001b[0;34m\u001b[0m\u001b[0m\n\u001b[0m",
      "\u001b[0;31mNameError\u001b[0m: name 'true' is not defined"
     ]
    }
   ],
   "source": [
    "print(type('True')) # тип str - строковая переменная\n",
    "print(true) # ошибка, Python думает, что это назbвание переменной"
   ]
  },
  {
   "cell_type": "code",
   "execution_count": null,
   "metadata": {
    "id": "Kw1emPRS-8hZ"
   },
   "outputs": [],
   "source": []
  },
  {
   "cell_type": "markdown",
   "metadata": {
    "id": "AhlR6G1nacTq"
   },
   "source": [
    "Как и в случае чисел и строк, с логическими переменными работает преобразование типов. Превратить что-либо в логическую переменную можно с помощью функции bool().\n",
    "\n",
    "Преобразование чисел работает следующим образом - 0 превращается в False, все остальное в True."
   ]
  },
  {
   "cell_type": "code",
   "execution_count": null,
   "metadata": {
    "colab": {
     "base_uri": "https://localhost:8080/"
    },
    "executionInfo": {
     "elapsed": 287,
     "status": "ok",
     "timestamp": 1629269076954,
     "user": {
      "displayName": "Ian Pile",
      "photoUrl": "",
      "userId": "15446314713627471182"
     },
     "user_tz": -180
    },
    "id": "_QNQRZUiacTq",
    "outputId": "06023dc1-9a55-4a5a-afe7-1af9afe6fd9b"
   },
   "outputs": [
    {
     "name": "stdout",
     "output_type": "stream",
     "text": [
      "False\n",
      "True\n",
      "True\n"
     ]
    }
   ],
   "source": [
    "print(bool(0))\n",
    "print(bool(23))\n",
    "print(bool(-10))"
   ]
  },
  {
   "cell_type": "markdown",
   "metadata": {
    "id": "VxGL8wWYacTq"
   },
   "source": [
    "Пустая строка преобразуется в False, все остальные строки в True."
   ]
  },
  {
   "cell_type": "code",
   "execution_count": null,
   "metadata": {
    "colab": {
     "base_uri": "https://localhost:8080/"
    },
    "executionInfo": {
     "elapsed": 382,
     "status": "ok",
     "timestamp": 1629269096675,
     "user": {
      "displayName": "Ian Pile",
      "photoUrl": "",
      "userId": "15446314713627471182"
     },
     "user_tz": -180
    },
    "id": "6vNUWYWlacTr",
    "outputId": "7b44b38b-c41d-4973-f6cc-054c6f823245"
   },
   "outputs": [
    {
     "name": "stdout",
     "output_type": "stream",
     "text": [
      "False\n",
      "True\n",
      "True\n",
      "True\n"
     ]
    }
   ],
   "source": [
    "print(bool(''))\n",
    "print(bool('Hello'))\n",
    "print(bool(' ')) # даже строка из одного пробела - это True\n",
    "print(bool('False')) # и даже строка 'False' - это True"
   ]
  },
  {
   "cell_type": "markdown",
   "metadata": {
    "id": "pP47Wv3oacTr"
   },
   "source": [
    "И при необходимости булеву переменную можно конвертировать в int. Тут все без сюрпризов - ноль и единица."
   ]
  },
  {
   "cell_type": "code",
   "execution_count": null,
   "metadata": {
    "id": "Y-EM53NdacTr",
    "outputId": "6f9b32bd-56ec-43ff-e497-bc22771267d6"
   },
   "outputs": [
    {
     "name": "stdout",
     "output_type": "stream",
     "text": [
      "1\n",
      "0\n"
     ]
    }
   ],
   "source": [
    "print(int(True))\n",
    "print(int(False))"
   ]
  },
  {
   "cell_type": "code",
   "execution_count": null,
   "metadata": {
    "colab": {
     "base_uri": "https://localhost:8080/"
    },
    "executionInfo": {
     "elapsed": 286,
     "status": "ok",
     "timestamp": 1629269139526,
     "user": {
      "displayName": "Ian Pile",
      "photoUrl": "",
      "userId": "15446314713627471182"
     },
     "user_tz": -180
    },
    "id": "QlaN7owAAdmu",
    "outputId": "92b02ca4-6be1-4b13-cf4a-1738689b79e8"
   },
   "outputs": [
    {
     "data": {
      "text/plain": [
       "NoneType"
      ]
     },
     "execution_count": 43,
     "metadata": {
      "tags": []
     },
     "output_type": "execute_result"
    }
   ],
   "source": [
    "type(None)"
   ]
  },
  {
   "cell_type": "code",
   "execution_count": null,
   "metadata": {
    "colab": {
     "base_uri": "https://localhost:8080/"
    },
    "executionInfo": {
     "elapsed": 266,
     "status": "ok",
     "timestamp": 1629269148058,
     "user": {
      "displayName": "Ian Pile",
      "photoUrl": "",
      "userId": "15446314713627471182"
     },
     "user_tz": -180
    },
    "id": "NpCWuP8gAiPx",
    "outputId": "5d088cfd-023b-4866-cf66-e3228d813752"
   },
   "outputs": [
    {
     "data": {
      "text/plain": [
       "False"
      ]
     },
     "execution_count": 44,
     "metadata": {
      "tags": []
     },
     "output_type": "execute_result"
    }
   ],
   "source": [
    "bool(None)"
   ]
  },
  {
   "cell_type": "markdown",
   "metadata": {
    "id": "i2Au_ny0acTr"
   },
   "source": [
    "## Логические выражения\n",
    "\n",
    "Давайте посмотрим, где используется новый тип данных.\n",
    "\n",
    "Мы поработаем с логическими выражениями, результат которых - булевы переменные.\n",
    "\n",
    "Логические выражения выполняют проверку на истинность, то есть выражение равно True, если оно истинно, и False, если ложно.\n",
    "\n",
    "В логических выражениях используются операторы сравнения:\n",
    "* ==  (равно)\n",
    "* !=  (не равно)\n",
    "* \\>  (больше)\n",
    "* <  (меньше)\n",
    "* \\>=  (больше или равно)\n",
    "* <=  (меньше или равно)"
   ]
  },
  {
   "cell_type": "code",
   "execution_count": null,
   "metadata": {
    "id": "B7sAwNT3Bvky"
   },
   "outputs": [],
   "source": []
  },
  {
   "cell_type": "code",
   "execution_count": 1,
   "metadata": {
    "colab": {
     "base_uri": "https://localhost:8080/"
    },
    "executionInfo": {
     "elapsed": 267,
     "status": "ok",
     "timestamp": 1629269573460,
     "user": {
      "displayName": "Ian Pile",
      "photoUrl": "",
      "userId": "15446314713627471182"
     },
     "user_tz": -180
    },
    "id": "nao3mNVFacTs",
    "outputId": "5d49886d-71a4-4cc6-bce9-a274c77d15d2"
   },
   "outputs": [
    {
     "name": "stdout",
     "output_type": "stream",
     "text": [
      "True\n",
      "False\n",
      "False\n",
      "<class 'bool'>\n",
      "True\n"
     ]
    }
   ],
   "source": [
    "print(1 == 1)\n",
    "print(1 == '1') \n",
    "c = 1 > 3\n",
    "print(c)\n",
    "print(type(c))\n",
    "x = 5\n",
    "print(1 < x <= 5) #можно писать связки цепочкой"
   ]
  },
  {
   "cell_type": "markdown",
   "metadata": {
    "id": "G2MDRA76acTs"
   },
   "source": [
    "Логические выражения можно комбинировать с помощью следующих логических операторов:\n",
    "\n",
    "* логическое И (and) - выражение истинно, только когда обе части истинны, иначе оно ложно\n",
    "* логическое ИЛИ (or) - выражение ложно, только когда обе части ложны, иначе оно истинно\n",
    "* логическое отрицание (not) - превращает True в False и наоборот"
   ]
  },
  {
   "cell_type": "code",
   "execution_count": 3,
   "metadata": {},
   "outputs": [
    {
     "data": {
      "text/plain": [
       "True"
      ]
     },
     "execution_count": 3,
     "metadata": {},
     "output_type": "execute_result"
    }
   ],
   "source": [
    "not False"
   ]
  },
  {
   "cell_type": "code",
   "execution_count": 6,
   "metadata": {},
   "outputs": [
    {
     "data": {
      "text/plain": [
       "False"
      ]
     },
     "execution_count": 6,
     "metadata": {},
     "output_type": "execute_result"
    }
   ],
   "source": [
    "True and False"
   ]
  },
  {
   "cell_type": "code",
   "execution_count": 8,
   "metadata": {},
   "outputs": [
    {
     "data": {
      "text/plain": [
       "True"
      ]
     },
     "execution_count": 8,
     "metadata": {},
     "output_type": "execute_result"
    }
   ],
   "source": [
    "False or True"
   ]
  },
  {
   "cell_type": "code",
   "execution_count": null,
   "metadata": {},
   "outputs": [],
   "source": [
    "a = 10\n",
    "a <= 10 a % 2 ==0"
   ]
  },
  {
   "cell_type": "code",
   "execution_count": null,
   "metadata": {
    "colab": {
     "base_uri": "https://localhost:8080/"
    },
    "executionInfo": {
     "elapsed": 296,
     "status": "ok",
     "timestamp": 1629270005804,
     "user": {
      "displayName": "Ian Pile",
      "photoUrl": "",
      "userId": "15446314713627471182"
     },
     "user_tz": -180
    },
    "id": "YIQXIp2wacTs",
    "outputId": "b08ffaa5-cf4e-457f-f98c-3bb91cd90826"
   },
   "outputs": [
    {
     "name": "stdout",
     "output_type": "stream",
     "text": [
      "False\n",
      "True\n",
      "False\n",
      "True\n"
     ]
    }
   ],
   "source": [
    "print((1 == 1) and ('1' == 1))\n",
    "print((1 == 1) or ('1' == 1))\n",
    "print(not(1 == 1))\n",
    "print((1 == 1) or ('1' == 1) and (2 == 3))"
   ]
  },
  {
   "cell_type": "code",
   "execution_count": 5,
   "metadata": {},
   "outputs": [
    {
     "data": {
      "text/plain": [
       "False"
      ]
     },
     "execution_count": 5,
     "metadata": {},
     "output_type": "execute_result"
    }
   ],
   "source": [
    "False and False"
   ]
  },
  {
   "cell_type": "markdown",
   "metadata": {
    "id": "Dbv-iio7acTs"
   },
   "source": [
    "## (∩｀-´)⊃━☆ﾟ.*･｡ﾟ Задача\n",
    "## Вася в Италии\n",
    "\n",
    "Вася уехал учиться по обмену на один семестр в Италию. Единственный магазин в городе открыт с 6 до 8 утра и с 16 до 17 вечера (включительно). Вася не мог попасть в магазин уже несколько дней и страдает от голода. Он может прийти в магазин в X часов. Если магазин открыт в X часов, то выведите True, а если закрыт - выведите False.\n",
    "\n",
    "В единственной строке входных данных вводится целое число X, число находится в пределах от 0 до 23\n",
    "\n",
    "**Формат ввода**  \n",
    "\n",
    "Целое число X, число находится в пределах от 0 до 23\n",
    "\n",
    "**Формат вывода**\n",
    "\n",
    "True или False\n",
    "\n",
    "#### Примеры\n",
    "\n",
    "Тест 1  \n",
    "**Входные данные:**  \n",
    "16\n",
    "\n",
    "**Вывод программы:**  \n",
    "True"
   ]
  },
  {
   "cell_type": "code",
   "execution_count": 24,
   "metadata": {},
   "outputs": [
    {
     "name": "stdout",
     "output_type": "stream",
     "text": [
      "True\n",
      "False\n",
      "True\n"
     ]
    }
   ],
   "source": [
    "print (6 <= 8)\n",
    "print (16 >= 17)\n",
    "print ((16 == 16) or (16 == 16))"
   ]
  },
  {
   "cell_type": "code",
   "execution_count": null,
   "metadata": {},
   "outputs": [],
   "source": [
    "y = 16\n",
    "x = 6 <= y <= 8\n",
    "b = 16<= y <= 8 or (<=16 y <= 17)"
   ]
  },
  {
   "cell_type": "markdown",
   "metadata": {
    "id": "V3sjcVMKacTt"
   },
   "source": [
    "# Типы данных: вещественные числа (float)\n",
    "\n",
    "По сути, вещественные числа это десятичные дроби, записанные через точку. Вещественные числа в питоне обозначаются словом float (от \"плавающей\" точки в них). Также могут быть представлены в виде инженерной записи: 1/10000 = 1e-05\n",
    "\n",
    "**ВЕЩЕСТВЕННЫЕ ЧИСЛА (FLOAT):** 3.42, 2.323212, 3.0, 1e-05 - число с дробной частью (в том числе целое с дробной частью равной 0)"
   ]
  },
  {
   "cell_type": "code",
   "execution_count": 12,
   "metadata": {},
   "outputs": [
    {
     "name": "stdout",
     "output_type": "stream",
     "text": [
      "5.0\n"
     ]
    }
   ],
   "source": [
    "print(10/2)"
   ]
  },
  {
   "cell_type": "code",
   "execution_count": null,
   "metadata": {
    "colab": {
     "base_uri": "https://localhost:8080/"
    },
    "executionInfo": {
     "elapsed": 277,
     "status": "ok",
     "timestamp": 1629270053884,
     "user": {
      "displayName": "Ian Pile",
      "photoUrl": "",
      "userId": "15446314713627471182"
     },
     "user_tz": -180
    },
    "id": "ZaFgYuL3acTt",
    "outputId": "cbb5a45e-c7b1-497c-a067-1f908cf88a26"
   },
   "outputs": [
    {
     "data": {
      "text/plain": [
       "9.5"
      ]
     },
     "execution_count": 54,
     "metadata": {
      "tags": []
     },
     "output_type": "execute_result"
    }
   ],
   "source": [
    "4.5 + 5"
   ]
  },
  {
   "cell_type": "markdown",
   "metadata": {
    "id": "dKkZf3GKacTt"
   },
   "source": [
    "Если у нас было действие с участие целого и вещественного числа, то ответ всегда будет в виде вещественного числа (см. выше).\n",
    "\n",
    "Также давайте вспомним про \"обычное\" деление, в результате которого получается вещественное число."
   ]
  },
  {
   "cell_type": "code",
   "execution_count": null,
   "metadata": {
    "id": "OgGh3Ou_acTt",
    "outputId": "330e7571-9b31-479a-d79e-a42935f7c565"
   },
   "outputs": [
    {
     "name": "stdout",
     "output_type": "stream",
     "text": [
      "5.5\n",
      "<class 'float'>\n",
      "5\n",
      "<class 'int'>\n"
     ]
    }
   ],
   "source": [
    "print(11 / 2)\n",
    "print(type(11 / 2))\n",
    "print(11 // 2)\n",
    "print(type(11 // 2))"
   ]
  },
  {
   "cell_type": "markdown",
   "metadata": {
    "id": "O1SuHdRvacTu"
   },
   "source": [
    "С вещественными числами нужно быть осторожными со сравнениями. В связи с особенностями устройства памяти компьютера дробные числа хранятся там весьма хитро и не всегда условные 0.2 то, чем кажутся. Это связано с проблемой точности представления чисел.\n",
    "\n",
    "Подробнее можно прочитать [здесь](https://pythoner.name/documentation/tutorial/floatingpoint)."
   ]
  },
  {
   "cell_type": "code",
   "execution_count": null,
   "metadata": {
    "colab": {
     "base_uri": "https://localhost:8080/"
    },
    "executionInfo": {
     "elapsed": 317,
     "status": "ok",
     "timestamp": 1629270148571,
     "user": {
      "displayName": "Ian Pile",
      "photoUrl": "",
      "userId": "15446314713627471182"
     },
     "user_tz": -180
    },
    "id": "-wCV_W0LacTu",
    "outputId": "9f1a0c14-278e-4c6d-9357-869148bca4e0"
   },
   "outputs": [
    {
     "data": {
      "text/plain": [
       "False"
      ]
     },
     "execution_count": 55,
     "metadata": {
      "tags": []
     },
     "output_type": "execute_result"
    }
   ],
   "source": [
    "0.2 + 0.1 == 0.3"
   ]
  },
  {
   "cell_type": "markdown",
   "metadata": {
    "id": "oUIQRxm1acTu"
   },
   "source": [
    "Наверняка, от такого равенства мы ожидали результат True, но нет. Поэтому будьте аккуратны и старайтесь не \"завязывать\" работу вашей программы на условия, связанные с вычислением вещественных чисел. Давайте посмотрим, как на самом деле выглядят эти числа в памяти компьютера."
   ]
  },
  {
   "cell_type": "code",
   "execution_count": null,
   "metadata": {
    "colab": {
     "base_uri": "https://localhost:8080/"
    },
    "executionInfo": {
     "elapsed": 268,
     "status": "ok",
     "timestamp": 1629270163625,
     "user": {
      "displayName": "Ian Pile",
      "photoUrl": "",
      "userId": "15446314713627471182"
     },
     "user_tz": -180
    },
    "id": "J3jNZK_DacTu",
    "outputId": "b775526b-55bd-4918-f54c-a9170f02cb7c"
   },
   "outputs": [
    {
     "name": "stdout",
     "output_type": "stream",
     "text": [
      "0.30000000000000004\n",
      "0.3\n"
     ]
    }
   ],
   "source": [
    "print(0.2 + 0.1)\n",
    "print(0.3)"
   ]
  },
  {
   "cell_type": "markdown",
   "metadata": {
    "id": "7GiMZwXracTu"
   },
   "source": [
    "Числа с плавающей точкой представлены в компьютерном железе как дроби с основанием 2 (двоичная система счисления). Например, десятичная дробь\n",
    "\n",
    "0.125  \n",
    "имеет значение 1/10 + 2/100 + 5/1000, и таким же образом двоичная дробь\n",
    "\n",
    "0.001  \n",
    "имеет значение 0/2 + 0/4 + 1/8. Эти две дроби имеют одинаковые значения, отличаются только тем, что первая записана в дробной нотации по основанию 10, а вторая по основанию 2.\n",
    "\n",
    "К сожалению, большинство десятичных дробей не могут быть точно представлены в двоичной записи. Следствием этого является то, что в основном десятичные дробные числа вы вводите только приближенными к двоичным, которые и сохраняются в компьютере."
   ]
  },
  {
   "cell_type": "markdown",
   "metadata": {
    "id": "kjQPCmNLacTv"
   },
   "source": [
    "Если вам совсем не обойтись без такого сравнения, то можно сделать так: сравнивать не результат сложения и числа, а разность эти двух чисел с каким-то очень маленьким числом (с таким, размер которого будет точно не критичен для нашего вычисления). Например, порог это числа будет разным для каких-то физических вычислений, где важна высокая точность, и сравнения доходов граждан."
   ]
  },
  {
   "cell_type": "code",
   "execution_count": null,
   "metadata": {
    "colab": {
     "base_uri": "https://localhost:8080/"
    },
    "executionInfo": {
     "elapsed": 358,
     "status": "ok",
     "timestamp": 1629270268864,
     "user": {
      "displayName": "Ian Pile",
      "photoUrl": "",
      "userId": "15446314713627471182"
     },
     "user_tz": -180
    },
    "id": "_tqykACAacTv",
    "outputId": "044ea539-c92a-43dc-c14f-ca3fbe6aadf7"
   },
   "outputs": [
    {
     "data": {
      "text/plain": [
       "True"
      ]
     },
     "execution_count": 57,
     "metadata": {
      "tags": []
     },
     "output_type": "execute_result"
    }
   ],
   "source": [
    "0.2 + 0.1 - 0.3 < 0.000001"
   ]
  },
  {
   "cell_type": "markdown",
   "metadata": {
    "id": "osWVLHujacTv"
   },
   "source": [
    "Следующая проблема, с которой можно столкнуться - вместо результата вычисления получить ошибку 'Result too large'. Cвязано это с ограничением выделяемой памяти на хранение вещественного числа."
   ]
  },
  {
   "cell_type": "code",
   "execution_count": null,
   "metadata": {
    "colab": {
     "base_uri": "https://localhost:8080/",
     "height": 164
    },
    "executionInfo": {
     "elapsed": 280,
     "status": "error",
     "timestamp": 1629270331113,
     "user": {
      "displayName": "Ian Pile",
      "photoUrl": "",
      "userId": "15446314713627471182"
     },
     "user_tz": -180
    },
    "id": "bRkHzPLracTw",
    "outputId": "5c84ca91-c07b-4d72-e97c-7cadaee914ae"
   },
   "outputs": [
    {
     "ename": "OverflowError",
     "evalue": "ignored",
     "output_type": "error",
     "traceback": [
      "\u001b[0;31m---------------------------------------------------------------------------\u001b[0m",
      "\u001b[0;31mOverflowError\u001b[0m                             Traceback (most recent call last)",
      "\u001b[0;32m<ipython-input-60-c0528a2dab22>\u001b[0m in \u001b[0;36m<module>\u001b[0;34m()\u001b[0m\n\u001b[0;32m----> 1\u001b[0;31m \u001b[0mw\u001b[0m \u001b[0;34m=\u001b[0m \u001b[0;36m1.5\u001b[0m \u001b[0;34m**\u001b[0m \u001b[0;36m100000\u001b[0m\u001b[0;34m\u001b[0m\u001b[0;34m\u001b[0m\u001b[0m\n\u001b[0m",
      "\u001b[0;31mOverflowError\u001b[0m: (34, 'Numerical result out of range')"
     ]
    }
   ],
   "source": [
    "w = 1.5 ** 100000"
   ]
  },
  {
   "cell_type": "code",
   "execution_count": null,
   "metadata": {
    "colab": {
     "base_uri": "https://localhost:8080/"
    },
    "executionInfo": {
     "elapsed": 269,
     "status": "ok",
     "timestamp": 1629270335268,
     "user": {
      "displayName": "Ian Pile",
      "photoUrl": "",
      "userId": "15446314713627471182"
     },
     "user_tz": -180
    },
    "id": "VvrVgoPwacTw",
    "outputId": "ff4d936d-cee1-456d-9705-d84aa0bf6aa2"
   },
   "outputs": [
    {
     "data": {
      "text/plain": [
       "1.2338405969061735e+176"
      ]
     },
     "execution_count": 61,
     "metadata": {
      "tags": []
     },
     "output_type": "execute_result"
    }
   ],
   "source": [
    "1.5 ** 1000"
   ]
  },
  {
   "cell_type": "markdown",
   "metadata": {
    "id": "ZBNYyr6KacTw"
   },
   "source": [
    "А если все получилось, то ответ еще может выглядеть вот так. Такая запись числа называется научной и экономит место - она хранит целую часть числа (мантисса) и степень десятки на которую это число нужно умножить (экспонента). Здесь результатом возведения 1.5 в степень 1000 будет число 1.2338405969061735, умноженное на 10 в степень 176. Понятно, что это число очень большое. Если бы вместо знакак + стоял -, то и степень десятки была бы отрицательная (10 в -176 степени), и такое число было бы очень, очень маленьким.\n",
    "\n",
    "Как и в случае с целыми числами, вы можете перевести строку в вещественное число, если это возможно. Сделать это можно фукнцией float()"
   ]
  },
  {
   "cell_type": "code",
   "execution_count": null,
   "metadata": {
    "colab": {
     "base_uri": "https://localhost:8080/"
    },
    "executionInfo": {
     "elapsed": 407,
     "status": "ok",
     "timestamp": 1629270361692,
     "user": {
      "displayName": "Ian Pile",
      "photoUrl": "",
      "userId": "15446314713627471182"
     },
     "user_tz": -180
    },
    "id": "UKT3ywGjacTw",
    "outputId": "9c8ff46b-7971-4328-8fcf-68809f2bc946"
   },
   "outputs": [
    {
     "name": "stdout",
     "output_type": "stream",
     "text": [
      "4.9\n"
     ]
    }
   ],
   "source": [
    "print(2.5 + float('2.4'))"
   ]
  },
  {
   "cell_type": "markdown",
   "metadata": {
    "id": "uMugd4w4acTx"
   },
   "source": [
    "## Округление вещественных чисел"
   ]
  },
  {
   "cell_type": "markdown",
   "metadata": {
    "id": "Hn1KhsrIacTx"
   },
   "source": [
    "У нас часто возникает необходимость превратить вещественное число в целое (\"округлить\"). В питоне есть несколько способов это сделать, но, к сожалению, ни один из них не работает как наше привычное округление и про это всегда нужно помнить.\n",
    "\n",
    "Большинство этих функций не реализованы в базовом наборе команд питона и для того, чтобы ими пользоваться, нам придется загрузить дополнительную библиотеку math, которая содержит всякие специальные функции для математических вычислений."
   ]
  },
  {
   "cell_type": "code",
   "execution_count": null,
   "metadata": {
    "id": "Y1_9Ii-SacTx"
   },
   "outputs": [],
   "source": [
    "import math # команда import загружает модуль под названием math"
   ]
  },
  {
   "cell_type": "markdown",
   "metadata": {
    "id": "lSq5PwTfacTx"
   },
   "source": [
    "Модуль math устанавливается в рамках дистрибутива Anaconda, который мы использовали, чтобы установить Jupyter Notebook, поэтому его не нужно отдельно скачивать, а можно просто импортировать (загрузить в оперативную память текущей сессии). Иногда нужную библиотеку придется сначала установить на компьютер с помощью команды !pip install -название модуля- и только потом импортировать.\n",
    "\n",
    "Самый простой способ округлить число - применить к нему функцию int."
   ]
  },
  {
   "cell_type": "code",
   "execution_count": null,
   "metadata": {
    "colab": {
     "base_uri": "https://localhost:8080/"
    },
    "executionInfo": {
     "elapsed": 273,
     "status": "ok",
     "timestamp": 1629270502671,
     "user": {
      "displayName": "Ian Pile",
      "photoUrl": "",
      "userId": "15446314713627471182"
     },
     "user_tz": -180
    },
    "id": "1WWoB5g_acTx",
    "outputId": "8738b0e7-90b4-471e-f0ca-893335504dfe"
   },
   "outputs": [
    {
     "data": {
      "text/plain": [
       "2"
      ]
     },
     "execution_count": 65,
     "metadata": {
      "tags": []
     },
     "output_type": "execute_result"
    }
   ],
   "source": [
    "int(2.6)"
   ]
  },
  {
   "cell_type": "markdown",
   "metadata": {
    "id": "_Z84A_5vacTx"
   },
   "source": [
    "Обратите внимание, что такой метод просто обрубает дробную часть (значения выше 0.5 не округляются в сторону большего числа)."
   ]
  },
  {
   "cell_type": "code",
   "execution_count": null,
   "metadata": {
    "colab": {
     "base_uri": "https://localhost:8080/"
    },
    "executionInfo": {
     "elapsed": 342,
     "status": "ok",
     "timestamp": 1629270505166,
     "user": {
      "displayName": "Ian Pile",
      "photoUrl": "",
      "userId": "15446314713627471182"
     },
     "user_tz": -180
    },
    "id": "IycSm95SacTx",
    "outputId": "da132f73-d58b-4e6e-efe2-1174c17e1894"
   },
   "outputs": [
    {
     "name": "stdout",
     "output_type": "stream",
     "text": [
      "2\n",
      "-2\n"
     ]
    }
   ],
   "source": [
    "print(int(2.6))\n",
    "print(int(-2.6))"
   ]
  },
  {
   "cell_type": "markdown",
   "metadata": {
    "id": "l8D_1VKkacTy"
   },
   "source": [
    "Округление \"в пол\" из модуля math округляет до ближайшего меньшего целого числа."
   ]
  },
  {
   "cell_type": "code",
   "execution_count": null,
   "metadata": {
    "colab": {
     "base_uri": "https://localhost:8080/"
    },
    "executionInfo": {
     "elapsed": 277,
     "status": "ok",
     "timestamp": 1629270520617,
     "user": {
      "displayName": "Ian Pile",
      "photoUrl": "",
      "userId": "15446314713627471182"
     },
     "user_tz": -180
    },
    "id": "1LwBDTSxacTy",
    "outputId": "ea3a8b29-22fa-4254-d5df-48228cd55b08"
   },
   "outputs": [
    {
     "name": "stdout",
     "output_type": "stream",
     "text": [
      "2\n",
      "-3\n"
     ]
    }
   ],
   "source": [
    "print(math.floor(2.6)) # чтобы использовать функцю из дополнительного модуля - \n",
    "                        # нужно сначала написать название этого модуля и через точку название функции\n",
    "print(math.floor(-2.6))"
   ]
  },
  {
   "cell_type": "markdown",
   "metadata": {
    "id": "K96XTjYtacTy"
   },
   "source": [
    "Округление \"в потолок\" работает ровно наоброт - округляет до ближайшего большего числа, независимо от значения дробной части."
   ]
  },
  {
   "cell_type": "code",
   "execution_count": null,
   "metadata": {
    "colab": {
     "base_uri": "https://localhost:8080/"
    },
    "executionInfo": {
     "elapsed": 274,
     "status": "ok",
     "timestamp": 1629270565325,
     "user": {
      "displayName": "Ian Pile",
      "photoUrl": "",
      "userId": "15446314713627471182"
     },
     "user_tz": -180
    },
    "id": "zG3AR4zRacTy",
    "outputId": "31e4a38e-c72a-4b30-d59f-f575986fbeed"
   },
   "outputs": [
    {
     "name": "stdout",
     "output_type": "stream",
     "text": [
      "3\n",
      "-2\n"
     ]
    }
   ],
   "source": [
    "print(math.ceil(2.6))\n",
    "print(math.ceil(-2.6))"
   ]
  },
  {
   "cell_type": "markdown",
   "metadata": {
    "id": "lycTUKb3acTy"
   },
   "source": [
    "В самом питоне есть еще функция round(). Вот она работает почти привычно нам, если бы не одно \"но\"..."
   ]
  },
  {
   "cell_type": "code",
   "execution_count": null,
   "metadata": {
    "colab": {
     "base_uri": "https://localhost:8080/"
    },
    "executionInfo": {
     "elapsed": 455,
     "status": "ok",
     "timestamp": 1629270605026,
     "user": {
      "displayName": "Ian Pile",
      "photoUrl": "",
      "userId": "15446314713627471182"
     },
     "user_tz": -180
    },
    "id": "StwQgFhhacTz",
    "outputId": "0d842206-194f-47a2-88ac-8724e338fa2c"
   },
   "outputs": [
    {
     "name": "stdout",
     "output_type": "stream",
     "text": [
      "2\n",
      "3\n",
      "2\n",
      "4\n"
     ]
    }
   ],
   "source": [
    "print(round(2.2))\n",
    "print(round(2.7))\n",
    "print(round(2.5)) # внимание на эту строку\n",
    "print(round(3.5))"
   ]
  },
  {
   "cell_type": "markdown",
   "metadata": {
    "id": "XHJvNZ9PacTz"
   },
   "source": [
    "Неожиданно? Тут дело в том, что в питоне реализованы не совсем привычные нам правила округления чисел с вещественной частью 0.5 - такое число округляется до ближайшего четного числа: 2 для 2.5 и 4 для 3.5."
   ]
  },
  {
   "cell_type": "markdown",
   "metadata": {
    "id": "OgGnW4_kacTz"
   },
   "source": [
    "## Замечание по импорту функций\n",
    "Иногда нам не нужна вся библиотека, а только одна функция из-за нее. Скажите, странно же хранить в опреативной памяти всю \"Войну и мир\", если нас интересует только пятое предложение на восьмой странице.\n",
    "Для этого можно воспользоваться импортом функции из библиотеки и тогда не нужно будет писать ее название через точку. Подводный камень здесь только тот, что если среди базовых команд питона есть функция с таким же именем, то она перезапишется и придется перезапускать свой блокнот, чтобы вернуть все как было."
   ]
  },
  {
   "cell_type": "code",
   "execution_count": 13,
   "metadata": {
    "colab": {
     "base_uri": "https://localhost:8080/"
    },
    "executionInfo": {
     "elapsed": 281,
     "status": "ok",
     "timestamp": 1629270675351,
     "user": {
      "displayName": "Ian Pile",
      "photoUrl": "",
      "userId": "15446314713627471182"
     },
     "user_tz": -180
    },
    "id": "mBcJ7jd6acTz",
    "outputId": "c068c971-3738-4415-e1e9-21cc58d552c1"
   },
   "outputs": [
    {
     "data": {
      "text/plain": [
       "3"
      ]
     },
     "execution_count": 13,
     "metadata": {},
     "output_type": "execute_result"
    }
   ],
   "source": [
    "from math import ceil as cl\n",
    "cl(2.6) # теперь работает без math."
   ]
  },
  {
   "cell_type": "code",
   "execution_count": null,
   "metadata": {
    "colab": {
     "base_uri": "https://localhost:8080/"
    },
    "executionInfo": {
     "elapsed": 300,
     "status": "ok",
     "timestamp": 1629270693523,
     "user": {
      "displayName": "Ian Pile",
      "photoUrl": "",
      "userId": "15446314713627471182"
     },
     "user_tz": -180
    },
    "id": "fSsZKKPEGbei",
    "outputId": "10c38bae-8ad9-4020-87db-f2a02cf4163f"
   },
   "outputs": [
    {
     "data": {
      "text/plain": [
       "(1+3j)"
      ]
     },
     "execution_count": 72,
     "metadata": {
      "tags": []
     },
     "output_type": "execute_result"
    }
   ],
   "source": [
    "1+3j"
   ]
  },
  {
   "cell_type": "markdown",
   "metadata": {
    "id": "qyb47c62acTz"
   },
   "source": [
    "## (∩｀-´)⊃━☆ﾟ.*･｡ﾟ Задача\n",
    "## Дробная часть\n",
    "\n",
    "Дано вещественное число. Выведите его дробную часть.\n",
    "\n",
    "**Формат ввода**  \n",
    "\n",
    "Вещественное число\n",
    "\n",
    "**Формат вывода**\n",
    "\n",
    "Вещественное число (ответ на задачу)\n",
    "\n",
    "#### Примеры\n",
    "\n",
    "Тест 1  \n",
    "**Входные данные:**  \n",
    "4.0\n",
    "\n",
    "**Вывод программы:**  \n",
    "0.0"
   ]
  },
  {
   "cell_type": "code",
   "execution_count": 28,
   "metadata": {},
   "outputs": [
    {
     "name": "stdout",
     "output_type": "stream",
     "text": [
      "0.0\n"
     ]
    }
   ],
   "source": [
    "print (4.0 - int(4.0))"
   ]
  }
 ],
 "metadata": {
  "colab": {
   "collapsed_sections": [
    "JjhLJimpacTi",
    "J89oTkOKacTo",
    "P7tD_YjJacTo",
    "--uh0bMFacTp",
    "i2Au_ny0acTr",
    "Dbv-iio7acTs",
    "V3sjcVMKacTt",
    "uMugd4w4acTx",
    "OgGnW4_kacTz",
    "qyb47c62acTz"
   ],
   "name": "Data_types.ipynb",
   "provenance": []
  },
  "kernelspec": {
   "display_name": "Python 3",
   "language": "python",
   "name": "python3"
  },
  "language_info": {
   "codemirror_mode": {
    "name": "ipython",
    "version": 3
   },
   "file_extension": ".py",
   "mimetype": "text/x-python",
   "name": "python",
   "nbconvert_exporter": "python",
   "pygments_lexer": "ipython3",
   "version": "3.8.8"
  }
 },
 "nbformat": 4,
 "nbformat_minor": 1
}
