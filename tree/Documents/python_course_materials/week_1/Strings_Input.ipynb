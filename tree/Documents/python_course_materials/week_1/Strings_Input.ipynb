{
 "cells": [
  {
   "cell_type": "markdown",
   "metadata": {
    "id": "j_Lqp7BcbgWx"
   },
   "source": [
    "## Строки. Ввод и форматирование."
   ]
  },
  {
   "cell_type": "markdown",
   "metadata": {
    "id": "Kz57TAyMbgWy"
   },
   "source": [
    "**ТЕКСТ (СТРОКИ) (STR, STRING):** любой текст внутри одинарных или двойных кавычек. \n",
    "Важно: целое число в кавычках - это тоже строка, не целое число."
   ]
  },
  {
   "cell_type": "code",
   "execution_count": 1,
   "metadata": {
    "colab": {
     "base_uri": "https://localhost:8080/"
    },
    "executionInfo": {
     "elapsed": 5,
     "status": "ok",
     "timestamp": 1629270855459,
     "user": {
      "displayName": "Ian Pile",
      "photoUrl": "",
      "userId": "15446314713627471182"
     },
     "user_tz": -180
    },
    "id": "ftwuhvq9bgWz",
    "outputId": "6851709c-3712-4b91-c953-0c0b16a919be"
   },
   "outputs": [
    {
     "name": "stdout",
     "output_type": "stream",
     "text": [
      "<class 'str'>\n",
      "<class 'str'>\n",
      "<class 'str'>\n"
     ]
    }
   ],
   "source": [
    "x= ''''\"\"\"\"\n",
    "txt\n",
    "x = 'text'\n",
    "print(type(x))\n",
    "print(type('Hello, world!'))\n",
    "print(type('2'))"
   ]
  },
  {
   "cell_type": "markdown",
   "metadata": {
    "id": "V56yHEMubgWz"
   },
   "source": [
    "Если попробовать сложить число-строку и число-число, то получим ошибку."
   ]
  },
  {
   "cell_type": "code",
   "execution_count": 2,
   "metadata": {
    "colab": {
     "base_uri": "https://localhost:8080/",
     "height": 164
    },
    "executionInfo": {
     "elapsed": 271,
     "status": "error",
     "timestamp": 1629270862631,
     "user": {
      "displayName": "Ian Pile",
      "photoUrl": "",
      "userId": "15446314713627471182"
     },
     "user_tz": -180
    },
    "id": "WBCLiwGebgW0",
    "outputId": "af1cb380-6250-45a7-b4b0-e9ab72957a14"
   },
   "outputs": [
    {
     "ename": "TypeError",
     "evalue": "must be str, not int",
     "output_type": "error",
     "traceback": [
      "\u001b[0;31m---------------------------------------------------------------------------\u001b[0m",
      "\u001b[0;31mTypeError\u001b[0m                                 Traceback (most recent call last)",
      "\u001b[0;32m<ipython-input-2-81ac1f9e7aa0>\u001b[0m in \u001b[0;36m<module>\u001b[0;34m\u001b[0m\n\u001b[0;32m----> 1\u001b[0;31m \u001b[0mprint\u001b[0m\u001b[0;34m(\u001b[0m\u001b[0;34m'2'\u001b[0m \u001b[0;34m+\u001b[0m \u001b[0;36m3\u001b[0m\u001b[0;34m)\u001b[0m\u001b[0;34m\u001b[0m\u001b[0;34m\u001b[0m\u001b[0m\n\u001b[0m",
      "\u001b[0;31mTypeError\u001b[0m: must be str, not int"
     ]
    }
   ],
   "source": [
    "print('2' + 3)"
   ]
  },
  {
   "cell_type": "markdown",
   "metadata": {
    "id": "WocSJbkqbgW0"
   },
   "source": [
    "Еще раз обратим внимание на текст ошибки. *TypeError: must be str, not int* - TypeError означает, что данная команда не может быть исполнена из-за типа какой-то из переменных. В данном случаем видим, что что-то должно быть \"str\", когда оно типа \"int\". Давайте попробуем сделать 3 тоже строкой. Кстати, неважно какие вы используете кавычки (только если это не текст с кавычками внутри), главное, чтобы открывающая и закрывающая кавычки были одинаковые."
   ]
  },
  {
   "cell_type": "code",
   "execution_count": 3,
   "metadata": {
    "colab": {
     "base_uri": "https://localhost:8080/"
    },
    "executionInfo": {
     "elapsed": 270,
     "status": "ok",
     "timestamp": 1629270873526,
     "user": {
      "displayName": "Ian Pile",
      "photoUrl": "",
      "userId": "15446314713627471182"
     },
     "user_tz": -180
    },
    "id": "tlytaKOBbgW1",
    "outputId": "c38523d4-cc74-415f-b285-cca3165e5891"
   },
   "outputs": [
    {
     "name": "stdout",
     "output_type": "stream",
     "text": [
      "23\n"
     ]
    }
   ],
   "source": [
    "print('2' + \"3\")"
   ]
  },
  {
   "cell_type": "markdown",
   "metadata": {
    "id": "-WzFXnPAbgW2"
   },
   "source": [
    "Такая операция называется контакенация (слиянием) строк. "
   ]
  },
  {
   "cell_type": "markdown",
   "metadata": {
    "id": "RoZGePsYbgW2"
   },
   "source": [
    "Можно и умножить строку на число можно. Такая операция повторит нам строку заданное количество раз."
   ]
  },
  {
   "cell_type": "code",
   "execution_count": 4,
   "metadata": {
    "colab": {
     "base_uri": "https://localhost:8080/",
     "height": 37
    },
    "executionInfo": {
     "elapsed": 290,
     "status": "ok",
     "timestamp": 1629270928488,
     "user": {
      "displayName": "Ian Pile",
      "photoUrl": "",
      "userId": "15446314713627471182"
     },
     "user_tz": -180
    },
    "id": "mRBogN26bgW3",
    "outputId": "9b1d74bc-52dd-45fd-d58f-f3aeb217f655"
   },
   "outputs": [
    {
     "data": {
      "text/plain": [
       "'222'"
      ]
     },
     "execution_count": 4,
     "metadata": {},
     "output_type": "execute_result"
    }
   ],
   "source": [
    "'2' * 3"
   ]
  },
  {
   "cell_type": "markdown",
   "metadata": {
    "id": "vSFLQ8gNbgW3"
   },
   "source": [
    "Операции со строками тоже работают, если строки лежат внутри переменных."
   ]
  },
  {
   "cell_type": "code",
   "execution_count": 5,
   "metadata": {
    "colab": {
     "base_uri": "https://localhost:8080/"
    },
    "executionInfo": {
     "elapsed": 276,
     "status": "ok",
     "timestamp": 1629270959141,
     "user": {
      "displayName": "Ian Pile",
      "photoUrl": "",
      "userId": "15446314713627471182"
     },
     "user_tz": -180
    },
    "id": "ZilHNx6IbgW3",
    "outputId": "2eef3625-b303-4bf7-993c-f591e52cf1fb"
   },
   "outputs": [
    {
     "name": "stdout",
     "output_type": "stream",
     "text": [
      "John Brown\n",
      "John Brown\n"
     ]
    }
   ],
   "source": [
    "word1 = 'John'\n",
    "word2 = ' Brown'\n",
    "print(word1 + word2)\n",
    "word3 = word1 + word2 # можем результат контакенации положить в новую переменную\n",
    "print(word3)"
   ]
  },
  {
   "cell_type": "markdown",
   "metadata": {
    "id": "xj640VDvbgW4"
   },
   "source": [
    "В прошлом блокноте мы преобразовывали строки в числа с помощью функции int(). "
   ]
  },
  {
   "cell_type": "code",
   "execution_count": 6,
   "metadata": {
    "colab": {
     "base_uri": "https://localhost:8080/"
    },
    "executionInfo": {
     "elapsed": 256,
     "status": "ok",
     "timestamp": 1629271006192,
     "user": {
      "displayName": "Ian Pile",
      "photoUrl": "",
      "userId": "15446314713627471182"
     },
     "user_tz": -180
    },
    "id": "9iOnTuQ9bgW4",
    "outputId": "7b122b34-66e3-4782-cc77-00943a70229d"
   },
   "outputs": [
    {
     "name": "stdout",
     "output_type": "stream",
     "text": [
      "2514\n"
     ]
    }
   ],
   "source": [
    "print(2 + int('2512')) # нет ошибки!"
   ]
  },
  {
   "cell_type": "markdown",
   "metadata": {
    "id": "3p-Estq3bgW5"
   },
   "source": [
    "С помощью функции str() мы можем превращать другие типы данных в строки."
   ]
  },
  {
   "cell_type": "code",
   "execution_count": 7,
   "metadata": {
    "colab": {
     "base_uri": "https://localhost:8080/"
    },
    "executionInfo": {
     "elapsed": 252,
     "status": "ok",
     "timestamp": 1629271055711,
     "user": {
      "displayName": "Ian Pile",
      "photoUrl": "",
      "userId": "15446314713627471182"
     },
     "user_tz": -180
    },
    "id": "LGbF3eU7bgW5",
    "outputId": "2de2c332-7978-480b-df60-a906b02599e0"
   },
   "outputs": [
    {
     "name": "stdout",
     "output_type": "stream",
     "text": [
      "abs123True\n"
     ]
    }
   ],
   "source": [
    "print('abs' + str(123) + str(True))"
   ]
  },
  {
   "cell_type": "markdown",
   "metadata": {
    "id": "pMBoL7KgbgW5"
   },
   "source": [
    "Обратите внимание: эти функции (str, int, float и другие) не меняют тип самих данных или переменных, в которых они хранятся. Если мы не перезапишем значение, то строка станет числом только в конкретной строчке команды, а ее тип не изменится."
   ]
  },
  {
   "cell_type": "code",
   "execution_count": 4,
   "metadata": {},
   "outputs": [
    {
     "data": {
      "text/plain": [
       "str"
      ]
     },
     "execution_count": 4,
     "metadata": {},
     "output_type": "execute_result"
    }
   ],
   "source": [
    "f = '123'\n",
    "int(f)\n",
    "type(f)"
   ]
  },
  {
   "cell_type": "code",
   "execution_count": 6,
   "metadata": {},
   "outputs": [
    {
     "name": "stdout",
     "output_type": "stream",
     "text": [
      "[5, 1, 2, 4]\n",
      "[1, 2, 4, 5]\n"
     ]
    }
   ],
   "source": [
    "a = [5, 1, 2, 4]\n",
    "print (a)\n",
    "a.sort()\n",
    "print (a)"
   ]
  },
  {
   "cell_type": "code",
   "execution_count": 8,
   "metadata": {
    "colab": {
     "base_uri": "https://localhost:8080/"
    },
    "executionInfo": {
     "elapsed": 257,
     "status": "ok",
     "timestamp": 1629271108175,
     "user": {
      "displayName": "Ian Pile",
      "photoUrl": "",
      "userId": "15446314713627471182"
     },
     "user_tz": -180
    },
    "id": "hy6cAk8gbgW5",
    "outputId": "c6da0a1f-3ef5-4bb7-f8a5-d294391b9f27"
   },
   "outputs": [
    {
     "name": "stdout",
     "output_type": "stream",
     "text": [
      "<class 'str'>\n",
      "2342125\n",
      "<class 'str'>\n"
     ]
    }
   ],
   "source": [
    "a = '2342123'\n",
    "print(type(a))\n",
    "print(2 + int(a))\n",
    "print(type(a))"
   ]
  },
  {
   "cell_type": "code",
   "execution_count": 9,
   "metadata": {
    "colab": {
     "base_uri": "https://localhost:8080/"
    },
    "executionInfo": {
     "elapsed": 364,
     "status": "ok",
     "timestamp": 1629271138269,
     "user": {
      "displayName": "Ian Pile",
      "photoUrl": "",
      "userId": "15446314713627471182"
     },
     "user_tz": -180
    },
    "id": "V95Sf9TcbgW6",
    "outputId": "6c25ea75-bc87-4ca8-cbd8-9d75f5144adb"
   },
   "outputs": [
    {
     "name": "stdout",
     "output_type": "stream",
     "text": [
      "<class 'int'>\n"
     ]
    }
   ],
   "source": [
    "a = int(a) # перезаписываем значение переменной\n",
    "print(type(a)) # теперь изменился и тип"
   ]
  },
  {
   "cell_type": "markdown",
   "metadata": {
    "id": "P0tmObJlbgW6"
   },
   "source": [
    "# Ввод данных. input()"
   ]
  },
  {
   "cell_type": "markdown",
   "metadata": {
    "id": "6QYZuX_TbgW6"
   },
   "source": [
    "Познакомимся с функцией input() - ввод. Это функция позволяет нам просить\n",
    "пользователя что-нибудь ввести или принять на ввод какие-то данные."
   ]
  },
  {
   "cell_type": "code",
   "execution_count": 7,
   "metadata": {
    "colab": {
     "base_uri": "https://localhost:8080/"
    },
    "executionInfo": {
     "elapsed": 4476,
     "status": "ok",
     "timestamp": 1629271181918,
     "user": {
      "displayName": "Ian Pile",
      "photoUrl": "",
      "userId": "15446314713627471182"
     },
     "user_tz": -180
    },
    "id": "6W-d0ZkRbgW7",
    "outputId": "c747eaee-129f-4fb2-bf2d-776e36a19646"
   },
   "outputs": [
    {
     "name": "stdout",
     "output_type": "stream",
     "text": [
      "Как вас зовут?Semen\n",
      "Semen\n"
     ]
    }
   ],
   "source": [
    "x = input('Как вас зовут?')\n",
    "print(x)"
   ]
  },
  {
   "cell_type": "markdown",
   "metadata": {
    "id": "11d82i1ebgW7"
   },
   "source": [
    "'Как вас зовут?' - аргумент функции input(), который будет отображаться в строке ввода. Он необязателен, но он может быть полезен для вас (особенно, если в задаче требуется ввести больше одной строки данных и нужно не запутаться).\n",
    "\n",
    "Обратите внимание, что функция  input() все сохраняет в строковом формате данных. Но мы можем сделать из\n",
    "числа-строки число-число с помощью функции int(). Введите \"1\" в обоих случаях и сравните результат."
   ]
  },
  {
   "cell_type": "code",
   "execution_count": 11,
   "metadata": {
    "colab": {
     "base_uri": "https://localhost:8080/",
     "height": 232
    },
    "executionInfo": {
     "elapsed": 7238,
     "status": "error",
     "timestamp": 1629271194698,
     "user": {
      "displayName": "Ian Pile",
      "photoUrl": "",
      "userId": "15446314713627471182"
     },
     "user_tz": -180
    },
    "id": "HbreaErRbgW7",
    "outputId": "bc38153a-ecf3-4a50-840e-57b2865bd03f"
   },
   "outputs": [
    {
     "name": "stdout",
     "output_type": "stream",
     "text": [
      "Sem\n",
      "<class 'str'>\n",
      "123\n",
      "<class 'int'>\n"
     ]
    }
   ],
   "source": [
    "print(type(input()))\n",
    "print(type(int(input())))"
   ]
  },
  {
   "cell_type": "markdown",
   "metadata": {
    "id": "vODT3dSubgW8"
   },
   "source": [
    "Нужно следить за тем, какие данные вы считываете и менять их при необходимости. Сравните два примере ниже."
   ]
  },
  {
   "cell_type": "code",
   "execution_count": 12,
   "metadata": {
    "colab": {
     "base_uri": "https://localhost:8080/"
    },
    "executionInfo": {
     "elapsed": 9567,
     "status": "ok",
     "timestamp": 1629271228476,
     "user": {
      "displayName": "Ian Pile",
      "photoUrl": "",
      "userId": "15446314713627471182"
     },
     "user_tz": -180
    },
    "id": "iWiAwjNMbgW8",
    "outputId": "04ff7af5-d192-4c59-8700-fef03a4e4e1d"
   },
   "outputs": [
    {
     "name": "stdout",
     "output_type": "stream",
     "text": [
      "Input x value: 2\n",
      "Input y value: 3\n",
      "23\n"
     ]
    }
   ],
   "source": [
    "x = input('Input x value: ')\n",
    "y = input('Input y value: ')\n",
    "print(x + y) # произошла склейка строк, по умолчанию input() сохраняет значение типа str"
   ]
  },
  {
   "cell_type": "code",
   "execution_count": 13,
   "metadata": {
    "colab": {
     "base_uri": "https://localhost:8080/"
    },
    "executionInfo": {
     "elapsed": 9100,
     "status": "ok",
     "timestamp": 1629271249102,
     "user": {
      "displayName": "Ian Pile",
      "photoUrl": "",
      "userId": "15446314713627471182"
     },
     "user_tz": -180
    },
    "id": "A9I6HDHlbgW8",
    "outputId": "1007f11d-5627-4530-d4bf-b05b9e628ea7"
   },
   "outputs": [
    {
     "name": "stdout",
     "output_type": "stream",
     "text": [
      "Input x value: 2\n",
      "Input y value: 3\n",
      "5\n"
     ]
    }
   ],
   "source": [
    "x = int(input('Input x value: '))\n",
    "y = int(input('Input y value: '))\n",
    "print(x + y) # вот теперь произошло сложение чисел"
   ]
  },
  {
   "cell_type": "markdown",
   "metadata": {
    "id": "OYeaHDOxbgW8"
   },
   "source": [
    "# ==> Задача 1\n",
    "## Pig Latin \n",
    "\n",
    "Pig Latin - вымышленный язык, который в конец каждого слова подставляет 'yay' (на самом деле оригинальные условия задачи несколько хитрее, но мы будем к ней возвращаться по ходу курса.\n",
    "\n",
    "**Формат ввода**  \n",
    "Пользователь вводит слова.\n",
    "\n",
    "**Формат вывода**\n",
    "Слово на Pig Latin.\n",
    "\n",
    "\n",
    "#### Примеры\n",
    "Тест 1  \n",
    "**Ввод:**  \n",
    "apple \n",
    "\n",
    "**Вывод:**  \n",
    "appleyay"
   ]
  },
  {
   "cell_type": "code",
   "execution_count": 2,
   "metadata": {},
   "outputs": [
    {
     "name": "stdout",
     "output_type": "stream",
     "text": [
      "Input x value: apple\n",
      "Input x value: yay\n",
      "appleyay\n"
     ]
    }
   ],
   "source": [
    "x = input('Input x value: ')\n",
    "y = input('Input x value: ')\n",
    "print(x + y)"
   ]
  },
  {
   "cell_type": "markdown",
   "metadata": {
    "id": "s43DXT59bgW9"
   },
   "source": [
    "## ==> Задача 2\n",
    "\n",
    "\n",
    "## x потвторенное x раз в квадрате\n",
    "\n",
    "1) Вводится целое число X. \n",
    "\n",
    "2) $ (X * X)^2 = result$ \n",
    "\n",
    "3) Напечатайте получившееся.\n",
    "\n",
    "\n",
    "**Формат ввода**  \n",
    "Целое число\n",
    "\n",
    "**Формат вывод**  \n",
    "Ответ на задачу\n",
    "\n",
    "#### Примеры\n",
    "Тест 1  \n",
    "**Ввод:**  \n",
    "2  \n",
    "\n",
    "**Вывод:**  \n",
    "484"
   ]
  },
  {
   "cell_type": "code",
   "execution_count": 13,
   "metadata": {
    "colab": {
     "base_uri": "https://localhost:8080/"
    },
    "executionInfo": {
     "elapsed": 7708,
     "status": "ok",
     "timestamp": 1629271344254,
     "user": {
      "displayName": "Ian Pile",
      "photoUrl": "",
      "userId": "15446314713627471182"
     },
     "user_tz": -180
    },
    "id": "xYAxyeQEbgW9",
    "outputId": "6b9606e4-7f98-4f29-84d8-3fc36f8abe4e"
   },
   "outputs": [
    {
     "name": "stdout",
     "output_type": "stream",
     "text": [
      "Input x value2\n",
      "16\n"
     ]
    }
   ],
   "source": [
    "x = int(input(\"Input x value\"))\n",
    "print(int(x*x)**2)"
   ]
  },
  {
   "cell_type": "markdown",
   "metadata": {
    "id": "E85VeBCwbgW-"
   },
   "source": [
    "## (∩｀-´)⊃━☆ﾟ.*･｡ﾟ  Задача\n",
    "## Хитрости умножения  \n",
    "\n",
    "Для умножения двузначного числа на 11 есть интересная хитрость: результат произведения можно получить если между первой и второй цифрой исходного числа вписать сумму этих цифр. Например, 15 * 11 = 1 1+5 5 = 165 или 34 * 11 = 3 3+4 4 = 374. Реализуйте программу, которая умножала бы двузначные числа на 11, используя эту хитрость. Пользоваться оператором умножения нельзя.  \n",
    "\n",
    "__Формат ввода:__  \n",
    "Вводится двузначное число.  \n",
    "__Формат вывода:__  \n",
    "Программа должна вывести ответ на задачу.  \n",
    "\n",
    "**Тест 1**  \n",
    "__Пример ввода:__  \n",
    "15   \n",
    "__Вывод:__  \n",
    "165  \n",
    "\n",
    "**Тест 2**  \n",
    "__Пример ввода:__   \n",
    "66      \n",
    "__Вывод:__   \n",
    "726   "
   ]
  },
  {
   "cell_type": "code",
   "execution_count": 21,
   "metadata": {
    "id": "Mx117Lx3bgW-",
    "outputId": "9cadf88c-37fe-465e-b20a-5a3b5c25c7fa"
   },
   "outputs": [
    {
     "name": "stdout",
     "output_type": "stream",
     "text": [
      "66\n",
      "726\n"
     ]
    }
   ],
   "source": [
    "x = input()\n",
    "x + '0'\n",
    "print(int(y)+int(x) * 11 - 5)"
   ]
  },
  {
   "cell_type": "markdown",
   "metadata": {
    "id": "Ps5qkrN9bgW-"
   },
   "source": [
    "## Форматирование строк (string formatting)\n",
    "А теперь посмотрим на то, как подставлять значения в уже имеющийся текстовый шаблон, то есть форматировать строки. Чтобы понять, о чём идет речь, можно представить, что у нас есть электронная анкета, которую заполняет пользователь, и мы должны написать программу, которая выводит на экран введенные данные, чтобы пользователь мог их проверить.\n",
    "\n",
    "Пусть для начала пользователь вводит свое имя и возраст."
   ]
  },
  {
   "cell_type": "code",
   "execution_count": 21,
   "metadata": {
    "colab": {
     "base_uri": "https://localhost:8080/"
    },
    "executionInfo": {
     "elapsed": 6475,
     "status": "ok",
     "timestamp": 1629271414389,
     "user": {
      "displayName": "Ian Pile",
      "photoUrl": "",
      "userId": "15446314713627471182"
     },
     "user_tz": -180
    },
    "id": "oKihzTLbbgW_",
    "outputId": "7bcb70d9-8b5d-4eb6-f84c-e80b13433e17"
   },
   "outputs": [
    {
     "name": "stdout",
     "output_type": "stream",
     "text": [
      "Введите Ваше имя: Ян\n",
      "Введите Ваш возраст: 28\n"
     ]
    }
   ],
   "source": [
    "name = input(\"Введите Ваше имя: \")\n",
    "age = int(input(\"Введите Ваш возраст: \")) # возраст будет целочисленным"
   ]
  },
  {
   "cell_type": "markdown",
   "metadata": {
    "id": "uI4DSEU7bgW_"
   },
   "source": [
    "Теперь выведем на экран сообщение вида\n",
    "\n",
    "`Ваше имя: `имя`. Ваш возраст: `возраст`.`\n",
    "\n",
    "Но прежде, чем это сделать, поймем, какого типа будут значения, которые мы будем подставлять в шаблон. Имя (переменная name) – это строка (string), а возраст (переменная age) – это целое число (integer)."
   ]
  },
  {
   "cell_type": "code",
   "execution_count": 26,
   "metadata": {
    "colab": {
     "base_uri": "https://localhost:8080/",
     "height": 37
    },
    "executionInfo": {
     "elapsed": 286,
     "status": "ok",
     "timestamp": 1629271553621,
     "user": {
      "displayName": "Ian Pile",
      "photoUrl": "",
      "userId": "15446314713627471182"
     },
     "user_tz": -180
    },
    "id": "dW2OgNlQJtpo",
    "outputId": "5e40846b-6ba7-4557-d457-ba26df418072"
   },
   "outputs": [
    {
     "data": {
      "application/vnd.google.colaboratory.intrinsic+json": {
       "type": "string"
      },
      "text/plain": [
       "'28'"
      ]
     },
     "execution_count": 26,
     "metadata": {
      "tags": []
     },
     "output_type": "execute_result"
    }
   ],
   "source": [
    "str(28)"
   ]
  },
  {
   "cell_type": "markdown",
   "metadata": {},
   "source": [
    "## Option #1"
   ]
  },
  {
   "cell_type": "code",
   "execution_count": 27,
   "metadata": {
    "colab": {
     "base_uri": "https://localhost:8080/"
    },
    "executionInfo": {
     "elapsed": 321,
     "status": "ok",
     "timestamp": 1629271567671,
     "user": {
      "displayName": "Ian Pile",
      "photoUrl": "",
      "userId": "15446314713627471182"
     },
     "user_tz": -180
    },
    "id": "Ht3n485GbgW_",
    "outputId": "e3cf2b0b-0bbc-4346-9e18-19a941f27fc6"
   },
   "outputs": [
    {
     "name": "stdout",
     "output_type": "stream",
     "text": [
      "Ваше имя: Ян. Ваш возраст: 28.\n"
     ]
    }
   ],
   "source": [
    "result = \"Ваше имя: %s. Ваш возраст: %i.\" % (name, age)\n",
    "print(result)"
   ]
  },
  {
   "cell_type": "markdown",
   "metadata": {
    "id": "zbfd5r1rbgW_"
   },
   "source": [
    "Что за таинственные %s и %i? Все просто: оператор % в строке указывает место, на которое будет подставляться значение, а буква сразу после процента – сокращённое название типа данных (s – от string и i – от integer). Осталось только сообщить Python, что именно нужно подставлять – после кавычек поставить % и в скобках перечислить названия переменных, значения которых мы будем подставлять.\n",
    "\n",
    "Примечание: не теряйте часть с переменными после самой строки. Иначе получится нечто странное:"
   ]
  },
  {
   "cell_type": "code",
   "execution_count": null,
   "metadata": {
    "id": "3U9H6XmubgW_",
    "outputId": "b30e9945-1922-4506-c183-c7cbac7ddfe3"
   },
   "outputs": [
    {
     "name": "stdout",
     "output_type": "stream",
     "text": [
      "Ваше имя: %s. Ваш возраст: %i.\n"
     ]
    }
   ],
   "source": [
    "print(\"Ваше имя: %s. Ваш возраст: %i.\")"
   ]
  },
  {
   "cell_type": "markdown",
   "metadata": {
    "id": "mAlzL3X5bgXA"
   },
   "source": [
    "Важно помнить, что если мы забудем указать какую-то из переменных, мы получим ошибку (точнее, исключение): Python не будет знать, откуда брать нужные значения."
   ]
  },
  {
   "cell_type": "code",
   "execution_count": 28,
   "metadata": {
    "colab": {
     "base_uri": "https://localhost:8080/",
     "height": 164
    },
    "executionInfo": {
     "elapsed": 291,
     "status": "error",
     "timestamp": 1629271592960,
     "user": {
      "displayName": "Ian Pile",
      "photoUrl": "",
      "userId": "15446314713627471182"
     },
     "user_tz": -180
    },
    "id": "ULxC7UoKbgXA",
    "outputId": "ab07a577-a652-4d42-b09e-b7a36504d9fc"
   },
   "outputs": [
    {
     "ename": "TypeError",
     "evalue": "ignored",
     "output_type": "error",
     "traceback": [
      "\u001b[0;31m---------------------------------------------------------------------------\u001b[0m",
      "\u001b[0;31mTypeError\u001b[0m                                 Traceback (most recent call last)",
      "\u001b[0;32m<ipython-input-28-2343aa81e176>\u001b[0m in \u001b[0;36m<module>\u001b[0;34m()\u001b[0m\n\u001b[0;32m----> 1\u001b[0;31m \u001b[0mprint\u001b[0m\u001b[0;34m(\u001b[0m\u001b[0;34m\"Ваше имя: %s. Ваш возраст: %i.\"\u001b[0m \u001b[0;34m%\u001b[0m \u001b[0;34m(\u001b[0m\u001b[0mname\u001b[0m\u001b[0;34m)\u001b[0m\u001b[0;34m)\u001b[0m\u001b[0;34m\u001b[0m\u001b[0;34m\u001b[0m\u001b[0m\n\u001b[0m",
      "\u001b[0;31mTypeError\u001b[0m: not enough arguments for format string"
     ]
    }
   ],
   "source": [
    "print(\"Ваше имя: %s. Ваш возраст: %i.\" % (name))"
   ]
  },
  {
   "cell_type": "markdown",
   "metadata": {
    "id": "Gw0cPXgDbgXA"
   },
   "source": [
    "Кроме того, создавая такие текстовые шаблоны, нужно обращать внимание на типы переменных, значения которых мы подставляем."
   ]
  },
  {
   "cell_type": "code",
   "execution_count": 30,
   "metadata": {
    "colab": {
     "base_uri": "https://localhost:8080/"
    },
    "executionInfo": {
     "elapsed": 269,
     "status": "ok",
     "timestamp": 1629271617847,
     "user": {
      "displayName": "Ian Pile",
      "photoUrl": "",
      "userId": "15446314713627471182"
     },
     "user_tz": -180
    },
    "id": "W6f1hLN7bgXA",
    "outputId": "c64a11f1-7f2d-4ae6-8718-07d27683f012"
   },
   "outputs": [
    {
     "name": "stdout",
     "output_type": "stream",
     "text": [
      "Ваше имя: Ян. Ваш возраст: 28.\n"
     ]
    }
   ],
   "source": [
    "print(\"Ваше имя: %s. Ваш возраст: %s.\" % (name, age)) # так сработает"
   ]
  },
  {
   "cell_type": "code",
   "execution_count": null,
   "metadata": {
    "id": "FsduR8kdbgXB",
    "outputId": "b6cb340f-6fe1-47d4-f3c5-1ad5f713da43"
   },
   "outputs": [
    {
     "ename": "TypeError",
     "evalue": "%i format: a number is required, not str",
     "output_type": "error",
     "traceback": [
      "\u001b[1;31m---------------------------------------------------------------------------\u001b[0m",
      "\u001b[1;31mTypeError\u001b[0m                                 Traceback (most recent call last)",
      "\u001b[1;32m<ipython-input-8-9c083ea32449>\u001b[0m in \u001b[0;36m<module>\u001b[1;34m()\u001b[0m\n\u001b[1;32m----> 1\u001b[1;33m \u001b[0mprint\u001b[0m\u001b[1;33m(\u001b[0m\u001b[1;34m\"Ваше имя: %i. Ваш возраст: %s.\"\u001b[0m \u001b[1;33m%\u001b[0m \u001b[1;33m(\u001b[0m\u001b[0mname\u001b[0m\u001b[1;33m,\u001b[0m \u001b[0mage\u001b[0m\u001b[1;33m)\u001b[0m\u001b[1;33m)\u001b[0m \u001b[1;31m# а так нет\u001b[0m\u001b[1;33m\u001b[0m\u001b[0m\n\u001b[0m",
      "\u001b[1;31mTypeError\u001b[0m: %i format: a number is required, not str"
     ]
    }
   ],
   "source": [
    "print(\"Ваше имя: %i. Ваш возраст: %s.\" % (name, age)) # а так нет"
   ]
  },
  {
   "cell_type": "markdown",
   "metadata": {
    "id": "E80PUr9JbgXB"
   },
   "source": [
    "В первом случае код сработал: Python не очень строго относится к типам данных, и поэтому он легко может превратить целочисленный возраст в строку (два %s вместо %s и %i не является помехой). Во втором случае все иначе. Превратить строку, которая состоит из букв (name) в целое число никак не получится, поэтому Python справедливо ругается.\n",
    "\n",
    "А что будет, если мы будем подставлять не целое число, а дробное, с плавающей точкой? Попробуем!"
   ]
  },
  {
   "cell_type": "code",
   "execution_count": 42,
   "metadata": {
    "colab": {
     "base_uri": "https://localhost:8080/"
    },
    "executionInfo": {
     "elapsed": 3189,
     "status": "ok",
     "timestamp": 1629271862098,
     "user": {
      "displayName": "Ian Pile",
      "photoUrl": "",
      "userId": "15446314713627471182"
     },
     "user_tz": -180
    },
    "id": "IWuY8I7CbgXB",
    "outputId": "25853680-8447-4297-b274-25c09b582acf"
   },
   "outputs": [
    {
     "name": "stdout",
     "output_type": "stream",
     "text": [
      "Введите Ваш рост (в метрах): 1.82\n"
     ]
    },
    {
     "data": {
      "text/plain": [
       "1.82"
      ]
     },
     "execution_count": 42,
     "metadata": {
      "tags": []
     },
     "output_type": "execute_result"
    }
   ],
   "source": [
    "height = float(input(\"Введите Ваш рост (в метрах): \"))\n",
    "height"
   ]
  },
  {
   "cell_type": "code",
   "execution_count": 38,
   "metadata": {
    "colab": {
     "base_uri": "https://localhost:8080/"
    },
    "executionInfo": {
     "elapsed": 3,
     "status": "ok",
     "timestamp": 1629271764789,
     "user": {
      "displayName": "Ian Pile",
      "photoUrl": "",
      "userId": "15446314713627471182"
     },
     "user_tz": -180
    },
    "id": "_aqzVPGbbgXC",
    "outputId": "38ced1a2-25ba-4fdf-8132-d2cbe64c46fa"
   },
   "outputs": [
    {
     "name": "stdout",
     "output_type": "stream",
     "text": [
      "Ваш рост: 2.500000 м.\n"
     ]
    }
   ],
   "source": [
    "print(\"Ваш рост: %f м.\" % height) # f - от float"
   ]
  },
  {
   "cell_type": "markdown",
   "metadata": {
    "id": "1P0_6X64bgXC"
   },
   "source": [
    "По умолчанию при подстановке значений типа float Python выводит число с шестью знаками после запятой. Но это можно исправить. Перед f нужно поставить точку и указать число знаков после запятой, которое мы хотим:"
   ]
  },
  {
   "cell_type": "code",
   "execution_count": 33,
   "metadata": {
    "colab": {
     "base_uri": "https://localhost:8080/"
    },
    "executionInfo": {
     "elapsed": 276,
     "status": "ok",
     "timestamp": 1629271726299,
     "user": {
      "displayName": "Ian Pile",
      "photoUrl": "",
      "userId": "15446314713627471182"
     },
     "user_tz": -180
    },
    "id": "xCHz6QiZbgXC",
    "outputId": "7d07af80-e3be-4ebb-a299-898af148fbb7"
   },
   "outputs": [
    {
     "name": "stdout",
     "output_type": "stream",
     "text": [
      "Ваш рост: 1.82 м.\n"
     ]
    }
   ],
   "source": [
    "print(\"Ваш рост: %.2f м.\" % height) # например, два"
   ]
  },
  {
   "cell_type": "code",
   "execution_count": 40,
   "metadata": {
    "colab": {
     "base_uri": "https://localhost:8080/"
    },
    "executionInfo": {
     "elapsed": 283,
     "status": "ok",
     "timestamp": 1629271781221,
     "user": {
      "displayName": "Ian Pile",
      "photoUrl": "",
      "userId": "15446314713627471182"
     },
     "user_tz": -180
    },
    "id": "2qoz6fHnbgXD",
    "outputId": "e33c0b78-0002-4cbc-bf40-27302d020ff4"
   },
   "outputs": [
    {
     "name": "stdout",
     "output_type": "stream",
     "text": [
      "Ваш рост: 2 м. \n"
     ]
    }
   ],
   "source": [
    "print(\"Ваш рост: %.0f м. \" % height) # или один"
   ]
  },
  {
   "cell_type": "markdown",
   "metadata": {},
   "source": [
    "## Option #2"
   ]
  },
  {
   "cell_type": "markdown",
   "metadata": {
    "id": "PEBKSs9ebgXD"
   },
   "source": [
    "В случае, если указанное число знаков после запятой меньше, чем есть на самом деле (как в ячейке выше), происходит обычное арифметическое округление.\n",
    "\n",
    "Рассмотренный выше способ форматирования строк – не единственный. Он довольно стандартный, но при этом немного устаревший. В Python 3 есть другой способ ‒ форматирование с помощью метода .format(). Кроме того, в Python 3.6 и более поздних версиях появился еще более продвинутый способ форматирования строк ‒ f-strings (formatted string literals).\n",
    "\n",
    "F-strings очень удобны и просты в использовании: вместо % и сокращённого названия типа в фигурных скобках внутри текстового шаблона нужно указать название переменной, из которой должно подставляться значение, а перед всей строкой добавить f, чтобы Python знал, что нам нужна именно f-string."
   ]
  },
  {
   "cell_type": "code",
   "execution_count": null,
   "metadata": {
    "id": "KGZJd6sRbgXD",
    "outputId": "e781f0b9-33ec-4381-fdf4-8acfd58cc18e"
   },
   "outputs": [],
   "source": [
    "name = 'sem'\n",
    "age = 16\n",
    "height = 1.834565\n",
    "x = f\"Ваше имя: {name}. Ваш возраст: {age}. Рост: {height:.2f}\"\n",
    "print(x)"
   ]
  },
  {
   "cell_type": "markdown",
   "metadata": {
    "id": "6lWE54UUbgXE"
   },
   "source": [
    "Альтерантивой такого кода будет следующий синтаксис. Здесь переменные вставятся в порядке \"упоминания\" в строке."
   ]
  },
  {
   "cell_type": "markdown",
   "metadata": {},
   "source": [
    "## Option #3"
   ]
  },
  {
   "cell_type": "code",
   "execution_count": 41,
   "metadata": {
    "colab": {
     "base_uri": "https://localhost:8080/"
    },
    "executionInfo": {
     "elapsed": 258,
     "status": "ok",
     "timestamp": 1629271842182,
     "user": {
      "displayName": "Ian Pile",
      "photoUrl": "",
      "userId": "15446314713627471182"
     },
     "user_tz": -180
    },
    "id": "NzcElgAubgXE",
    "outputId": "ccb85b86-457f-47f1-b102-c67774887b1e"
   },
   "outputs": [
    {
     "name": "stdout",
     "output_type": "stream",
     "text": [
      "Ваше имя: Ян. Ваш возраст: 28\n"
     ]
    }
   ],
   "source": [
    "print(\"Ваше имя: {}. Ваш возраст: {}\".format(name, age))"
   ]
  },
  {
   "cell_type": "markdown",
   "metadata": {
    "id": "6LxDHzUIbgXE"
   },
   "source": [
    "Форматирование дробей добавляем так."
   ]
  },
  {
   "cell_type": "code",
   "execution_count": null,
   "metadata": {
    "id": "SmFTEqy8bgXE",
    "outputId": "b20341ce-c412-4066-e95e-428af768364c"
   },
   "outputs": [
    {
     "name": "stdout",
     "output_type": "stream",
     "text": [
      "Ваше имя: Олег. Ваш возраст: 32. Рост: 1.78\n"
     ]
    }
   ],
   "source": [
    "print(\"Ваше имя: {}. Ваш возраст: {}. Рост: {:.2f}\".format(name, age, height))"
   ]
  },
  {
   "cell_type": "markdown",
   "metadata": {
    "id": "jbG7cyQabgXF"
   },
   "source": [
    "Если указали формат переменной (.2f, например, ожидает float), то следим за порядком."
   ]
  },
  {
   "cell_type": "code",
   "execution_count": 44,
   "metadata": {
    "colab": {
     "base_uri": "https://localhost:8080/",
     "height": 164
    },
    "executionInfo": {
     "elapsed": 274,
     "status": "error",
     "timestamp": 1629271896040,
     "user": {
      "displayName": "Ian Pile",
      "photoUrl": "",
      "userId": "15446314713627471182"
     },
     "user_tz": -180
    },
    "id": "aKStU1dgbgXF",
    "outputId": "3440a9a0-1697-4e43-ed74-ccf93e3c9f60"
   },
   "outputs": [
    {
     "ename": "ValueError",
     "evalue": "ignored",
     "output_type": "error",
     "traceback": [
      "\u001b[0;31m---------------------------------------------------------------------------\u001b[0m",
      "\u001b[0;31mValueError\u001b[0m                                Traceback (most recent call last)",
      "\u001b[0;32m<ipython-input-44-dc0fcfae6649>\u001b[0m in \u001b[0;36m<module>\u001b[0;34m()\u001b[0m\n\u001b[0;32m----> 1\u001b[0;31m \u001b[0mprint\u001b[0m\u001b[0;34m(\u001b[0m\u001b[0;34m\"Ваше имя: {}. Ваш возраст: {}. Рост: {:.2f}\"\u001b[0m\u001b[0;34m.\u001b[0m\u001b[0mformat\u001b[0m\u001b[0;34m(\u001b[0m\u001b[0mage\u001b[0m\u001b[0;34m,\u001b[0m \u001b[0mheight\u001b[0m\u001b[0;34m,\u001b[0m \u001b[0mname\u001b[0m\u001b[0;34m)\u001b[0m\u001b[0;34m)\u001b[0m\u001b[0;34m\u001b[0m\u001b[0;34m\u001b[0m\u001b[0m\n\u001b[0m",
      "\u001b[0;31mValueError\u001b[0m: Unknown format code 'f' for object of type 'str'"
     ]
    }
   ],
   "source": [
    "print(\"Ваше имя: {}. Ваш возраст: {}. Рост: {:.2f}\".format(age, height, name)) "
   ]
  },
  {
   "cell_type": "markdown",
   "metadata": {
    "id": "yRnzr8CzbgXF"
   },
   "source": [
    "Порядок заполнения можно указывать с помощью нумерации. Одну и тоже переменную можно использовать несколько раз."
   ]
  },
  {
   "cell_type": "code",
   "execution_count": 45,
   "metadata": {
    "colab": {
     "base_uri": "https://localhost:8080/"
    },
    "executionInfo": {
     "elapsed": 254,
     "status": "ok",
     "timestamp": 1629271938679,
     "user": {
      "displayName": "Ian Pile",
      "photoUrl": "",
      "userId": "15446314713627471182"
     },
     "user_tz": -180
    },
    "id": "Z_2QOMegbgXF",
    "outputId": "263ae4fc-efb7-4e2b-ea5b-c773e2b7b6c2"
   },
   "outputs": [
    {
     "name": "stdout",
     "output_type": "stream",
     "text": [
      "Ваше имя: Ян. Ваш возраст: 28. Рост: 1.82. Все верно, Ян?\n"
     ]
    }
   ],
   "source": [
    "print(\"Ваше имя: {2}. Ваш возраст: {0}. Рост: {1:.2f}. Все верно, {2}?\".format(age, height, name)) "
   ]
  },
  {
   "cell_type": "markdown",
   "metadata": {
    "id": "d5Ds7EN8bgXG"
   },
   "source": [
    "Также при форматировании строк можно использовать результаты вычислений и результаты работы методах (о  них немного позже). name.upper() в примере делает все символы строки name заглавными."
   ]
  },
  {
   "cell_type": "code",
   "execution_count": 46,
   "metadata": {
    "colab": {
     "base_uri": "https://localhost:8080/"
    },
    "executionInfo": {
     "elapsed": 263,
     "status": "ok",
     "timestamp": 1629272017946,
     "user": {
      "displayName": "Ian Pile",
      "photoUrl": "",
      "userId": "15446314713627471182"
     },
     "user_tz": -180
    },
    "id": "mDzZIQjBbgXG",
    "outputId": "50ed5d7b-f887-4a75-de9b-17f74cf33691"
   },
   "outputs": [
    {
     "name": "stdout",
     "output_type": "stream",
     "text": [
      "Ваше имя: ЯН. Ваш возраст: 28. Рост в футах: 5.97\n"
     ]
    }
   ],
   "source": [
    "print(f\"Ваше имя: {name.upper()}. Ваш возраст: {2021-1993}. Рост в футах: {height * 100 / 30.48 :.2f}\")"
   ]
  },
  {
   "cell_type": "markdown",
   "metadata": {
    "id": "VMCCGFo0bgXG"
   },
   "source": [
    "# ==> Задача 3\n",
    "## Pi\n",
    "\n",
    "Из модуля math импортируйте переменную pi. С помощью %f (первое предложение) и format (второе предложение) форматирования выведите строки из примера. Везде, где встречается число pi - это должна быть переменная pi, округленная до определенного знака после точки. \n",
    "\n",
    " \n",
    "__Формат вывода:__  \n",
    "`Значение 22/7 (3.14) является приближением числа pi (3.1416)`  \n",
    "`Значение 22/7 3.142 является приближением числа pi 3.141592653589793`\n",
    "\n"
   ]
  },
  {
   "cell_type": "code",
   "execution_count": 20,
   "metadata": {
    "id": "nslpde5lbgXG",
    "outputId": "93d6b63d-f208-4785-a315-e4ca2fa5434d"
   },
   "outputs": [],
   "source": [
    "import math\n"
   ]
  },
  {
   "cell_type": "markdown",
   "metadata": {
    "id": "Uy9iOI43bgXH"
   },
   "source": [
    "# Функция print(): аргументы и параметры"
   ]
  },
  {
   "cell_type": "markdown",
   "metadata": {
    "id": "YuVo5Wg3bgXH"
   },
   "source": [
    "И еще немного поговорим про форматирование вывода.На самом деле функция `print()` немного сложнее, чем то, что мы уже видели. Например, мы можем печатать одной функцией больше чем один аргумент и использовать разделители вместо пробелов. "
   ]
  },
  {
   "cell_type": "code",
   "execution_count": 47,
   "metadata": {
    "colab": {
     "base_uri": "https://localhost:8080/"
    },
    "executionInfo": {
     "elapsed": 254,
     "status": "ok",
     "timestamp": 1629272056797,
     "user": {
      "displayName": "Ian Pile",
      "photoUrl": "",
      "userId": "15446314713627471182"
     },
     "user_tz": -180
    },
    "id": "850i3hx1bgXH",
    "outputId": "068b7232-f208-4358-a864-c965c547d3de"
   },
   "outputs": [
    {
     "name": "stdout",
     "output_type": "stream",
     "text": [
      "2 + 3 = 5\n",
      "2 + 3 = 5\n"
     ]
    }
   ],
   "source": [
    "print('2 + 3 =', 2 + 3)\n",
    "z = 5\n",
    "print('2 + 3 =', z)"
   ]
  },
  {
   "cell_type": "markdown",
   "metadata": {
    "id": "F4tM49wkbgXH"
   },
   "source": [
    "У функции `print` есть параметры. Параметры - это такие свойства функций, которые задают значение невидимых нам аргументов внутри функции. Так существует параметр sep (separator), благодаря которому мы можем менять тип разделителя между аргументами `print`. В качестве разделителя может выступать любая строка.  \n",
    "Сравните:"
   ]
  },
  {
   "cell_type": "code",
   "execution_count": 21,
   "metadata": {
    "colab": {
     "base_uri": "https://localhost:8080/"
    },
    "executionInfo": {
     "elapsed": 260,
     "status": "ok",
     "timestamp": 1629272094588,
     "user": {
      "displayName": "Ian Pile",
      "photoUrl": "",
      "userId": "15446314713627471182"
     },
     "user_tz": -180
    },
    "id": "YaCgWohgbgXH",
    "outputId": "8e2a9790-c47f-465f-b620-02278575642d"
   },
   "outputs": [
    {
     "name": "stdout",
     "output_type": "stream",
     "text": [
      "1 2 3\n",
      "\n",
      "1.2.3\n",
      "\n",
      "123\n",
      "\n",
      "1\n",
      "2\n",
      "3\n"
     ]
    }
   ],
   "source": [
    "print('1', '2', '3')\n",
    "print()\n",
    "print('1', '2', '3', sep='.')\n",
    "print()\n",
    "print('1', '2', '3', sep='')\n",
    "print()\n",
    "print('1', '2', '3', sep='\\n')"
   ]
  },
  {
   "cell_type": "markdown",
   "metadata": {
    "id": "VjXPhMKEbgXI"
   },
   "source": [
    "Параметр `end` задает то, что будет выведено в конце исполнения функции `print`. По умолчанию там стоит \n",
    "невидимый символ `\\n`, который осуществляет переход на новую строку. Мы можем заменить его на любую строку. \n",
    "Если мы хотим сохранить переход на новую строку - то обязательно прописываем наш невидимый символ внутри\n",
    "выражения."
   ]
  },
  {
   "cell_type": "code",
   "execution_count": 51,
   "metadata": {
    "colab": {
     "base_uri": "https://localhost:8080/"
    },
    "executionInfo": {
     "elapsed": 258,
     "status": "ok",
     "timestamp": 1629272149151,
     "user": {
      "displayName": "Ian Pile",
      "photoUrl": "",
      "userId": "15446314713627471182"
     },
     "user_tz": -180
    },
    "id": "erkYZPtVbgXI",
    "outputId": "06dc3317-dda7-4a1d-c652-2ec18c34ccea"
   },
   "outputs": [
    {
     "name": "stdout",
     "output_type": "stream",
     "text": [
      "1.2.3!2\n",
      "1.2.3!\n",
      "2\n"
     ]
    }
   ],
   "source": [
    "print('1', '2', '3', sep='.', end='!')\n",
    "print('2')  # строки слились\n",
    "\n",
    "print('1', '2', '3', sep='.', end='!\\n')\n",
    "print('2')  # вывод на новой строке\n"
   ]
  },
  {
   "cell_type": "code",
   "execution_count": null,
   "metadata": {
    "id": "C-KsY5WBL8Zm"
   },
   "outputs": [],
   "source": []
  },
  {
   "cell_type": "markdown",
   "metadata": {},
   "source": [
    "# Home tasks"
   ]
  },
  {
   "cell_type": "markdown",
   "metadata": {},
   "source": [
    "# Task #1"
   ]
  },
  {
   "cell_type": "markdown",
   "metadata": {},
   "source": [
    "Create a program that asks the user to enter their name and their age. Print out a message addressed to them that tells them the year that they will turn 100 years old.\n",
    "\n",
    "\n",
    "__Output:__\n",
    "\n",
    "`\n",
    "Your name: Sem\n",
    "How old are you: 25\n",
    "Sem will be 100 years old in the year 2096\n",
    "`"
   ]
  },
  {
   "cell_type": "code",
   "execution_count": 8,
   "metadata": {},
   "outputs": [
    {
     "name": "stdout",
     "output_type": "stream",
     "text": [
      "Введите Ваше имя Sem\n",
      "Введите Ваш возраст 25\n",
      "Sem will be 100 years old in the year 2096\n"
     ]
    }
   ],
   "source": [
    "name = input ('Введите Ваше имя')\n",
    "age = input ('Введите Ваш возраст')\n",
    "message = 'Sem will be 100 years old in the year 2096'\n",
    "print (message)"
   ]
  }
 ],
 "metadata": {
  "colab": {
   "collapsed_sections": [
    "E85VeBCwbgW-",
    "VMCCGFo0bgXG"
   ],
   "name": "Strings_Input.ipynb",
   "provenance": []
  },
  "kernelspec": {
   "display_name": "Python 3",
   "language": "python",
   "name": "python3"
  },
  "language_info": {
   "codemirror_mode": {
    "name": "ipython",
    "version": 3
   },
   "file_extension": ".py",
   "mimetype": "text/x-python",
   "name": "python",
   "nbconvert_exporter": "python",
   "pygments_lexer": "ipython3",
   "version": "3.8.8"
  }
 },
 "nbformat": 4,
 "nbformat_minor": 1
}
